{
 "cells": [
  {
   "cell_type": "code",
   "execution_count": 9,
   "metadata": {
    "ExecuteTime": {
     "end_time": "2020-03-27T17:33:41.661060Z",
     "start_time": "2020-03-27T17:33:41.641062Z"
    }
   },
   "outputs": [],
   "source": [
    "import pandas as pd\n",
    "import numpy as np\n",
    "import matplotlib.pyplot as plt\n",
    "import seaborn as sns\n",
    "from sklearn.model_selection import train_test_split\n",
    "from sklearn.linear_model import LinearRegression\n",
    "from sklearn.metrics import mean_squared_error\n",
    "from sklearn.tree import DecisionTreeRegressor\n",
    "from sklearn.ensemble import RandomForestRegressor\n",
    "from sklearn.model_selection import GridSearchCV\n",
    "from sklearn.metrics import accuracy_score\n",
    "from sklearn.preprocessing import StandardScaler\n",
    "from IPython.display import display, HTML\n",
    "%matplotlib inline\n",
    "import warnings\n",
    "warnings.filterwarnings('ignore')"
   ]
  },
  {
   "cell_type": "code",
   "execution_count": 30,
   "metadata": {
    "ExecuteTime": {
     "end_time": "2020-03-27T17:49:23.541733Z",
     "start_time": "2020-03-27T17:49:23.534729Z"
    }
   },
   "outputs": [
    {
     "data": {
      "text/html": [
       "<style>.container { width:95% !important; }</style>"
      ],
      "text/plain": [
       "<IPython.core.display.HTML object>"
      ]
     },
     "metadata": {},
     "output_type": "display_data"
    }
   ],
   "source": [
    "from IPython.core.display import display, HTML\n",
    "display(HTML(\"<style>.container { width:95% !important; }</style>\"))"
   ]
  },
  {
   "cell_type": "code",
   "execution_count": 31,
   "metadata": {
    "ExecuteTime": {
     "end_time": "2020-03-27T17:52:10.864406Z",
     "start_time": "2020-03-27T17:52:10.549419Z"
    }
   },
   "outputs": [],
   "source": [
    "#df = pd.read_csv('dados/dados_isolador40.csv', sep=';', decimal=',')\n",
    "df_14 = pd.read_csv('dados/dados_isolador14.csv', sep=';', decimal=',')\n",
    "df_15 = pd.read_csv('dados/dados_isolador15.csv', sep=';', decimal=',')\n",
    "df_29 = pd.read_csv('dados/dados_isolador29.csv', sep=';', decimal=',')\n",
    "df_40 = pd.read_csv('dados/dados_isolador40.csv', sep=';', decimal=',')"
   ]
  },
  {
   "cell_type": "code",
   "execution_count": 32,
   "metadata": {
    "ExecuteTime": {
     "end_time": "2020-03-27T17:52:18.292856Z",
     "start_time": "2020-03-27T17:52:18.264849Z"
    }
   },
   "outputs": [],
   "source": [
    "frames = [df_14, df_15, df_29, df_40]\n",
    "df = pd.concat(frames)"
   ]
  },
  {
   "cell_type": "code",
   "execution_count": 33,
   "metadata": {
    "ExecuteTime": {
     "end_time": "2020-03-27T17:52:19.736156Z",
     "start_time": "2020-03-27T17:52:19.725156Z"
    }
   },
   "outputs": [
    {
     "data": {
      "text/plain": [
       "Index(['umidade', 'temperatura', 'pressao', 'vento_ang', 'vent_veloc',\n",
       "       'chuva'],\n",
       "      dtype='object')"
      ]
     },
     "execution_count": 33,
     "metadata": {},
     "output_type": "execute_result"
    }
   ],
   "source": [
    "cols = df.columns.drop(['corrente_fuga'])\n",
    "cols"
   ]
  },
  {
   "cell_type": "code",
   "execution_count": 34,
   "metadata": {
    "ExecuteTime": {
     "end_time": "2020-03-27T17:52:22.042898Z",
     "start_time": "2020-03-27T17:52:21.969877Z"
    }
   },
   "outputs": [],
   "source": [
    "X_train, X_test, y_train, y_test = train_test_split(df[cols], df['corrente_fuga'], test_size=0.20, random_state=42)"
   ]
  },
  {
   "cell_type": "code",
   "execution_count": 35,
   "metadata": {
    "ExecuteTime": {
     "end_time": "2020-03-27T17:52:22.792772Z",
     "start_time": "2020-03-27T17:52:22.776765Z"
    }
   },
   "outputs": [
    {
     "data": {
      "text/html": [
       "<div>\n",
       "<style scoped>\n",
       "    .dataframe tbody tr th:only-of-type {\n",
       "        vertical-align: middle;\n",
       "    }\n",
       "\n",
       "    .dataframe tbody tr th {\n",
       "        vertical-align: top;\n",
       "    }\n",
       "\n",
       "    .dataframe thead th {\n",
       "        text-align: right;\n",
       "    }\n",
       "</style>\n",
       "<table border=\"1\" class=\"dataframe\">\n",
       "  <thead>\n",
       "    <tr style=\"text-align: right;\">\n",
       "      <th></th>\n",
       "      <th>umidade</th>\n",
       "      <th>temperatura</th>\n",
       "      <th>pressao</th>\n",
       "      <th>vento_ang</th>\n",
       "      <th>vent_veloc</th>\n",
       "      <th>chuva</th>\n",
       "    </tr>\n",
       "  </thead>\n",
       "  <tbody>\n",
       "    <tr>\n",
       "      <th>23850</th>\n",
       "      <td>87</td>\n",
       "      <td>24.6</td>\n",
       "      <td>1019</td>\n",
       "      <td>212</td>\n",
       "      <td>1.8</td>\n",
       "      <td>0</td>\n",
       "    </tr>\n",
       "    <tr>\n",
       "      <th>28339</th>\n",
       "      <td>91</td>\n",
       "      <td>27.0</td>\n",
       "      <td>1016</td>\n",
       "      <td>353</td>\n",
       "      <td>0.0</td>\n",
       "      <td>0</td>\n",
       "    </tr>\n",
       "    <tr>\n",
       "      <th>4234</th>\n",
       "      <td>91</td>\n",
       "      <td>27.3</td>\n",
       "      <td>1012</td>\n",
       "      <td>261</td>\n",
       "      <td>0.0</td>\n",
       "      <td>0</td>\n",
       "    </tr>\n",
       "    <tr>\n",
       "      <th>5536</th>\n",
       "      <td>97</td>\n",
       "      <td>27.2</td>\n",
       "      <td>1012</td>\n",
       "      <td>289</td>\n",
       "      <td>0.0</td>\n",
       "      <td>0</td>\n",
       "    </tr>\n",
       "    <tr>\n",
       "      <th>39234</th>\n",
       "      <td>87</td>\n",
       "      <td>22.8</td>\n",
       "      <td>1018</td>\n",
       "      <td>236</td>\n",
       "      <td>0.0</td>\n",
       "      <td>0</td>\n",
       "    </tr>\n",
       "  </tbody>\n",
       "</table>\n",
       "</div>"
      ],
      "text/plain": [
       "       umidade  temperatura  pressao  vento_ang  vent_veloc  chuva\n",
       "23850       87         24.6     1019        212         1.8      0\n",
       "28339       91         27.0     1016        353         0.0      0\n",
       "4234        91         27.3     1012        261         0.0      0\n",
       "5536        97         27.2     1012        289         0.0      0\n",
       "39234       87         22.8     1018        236         0.0      0"
      ]
     },
     "execution_count": 35,
     "metadata": {},
     "output_type": "execute_result"
    }
   ],
   "source": [
    "X_train.head()"
   ]
  },
  {
   "cell_type": "code",
   "execution_count": 20,
   "metadata": {
    "ExecuteTime": {
     "end_time": "2020-03-27T17:44:23.319996Z",
     "start_time": "2020-03-27T17:44:23.316998Z"
    }
   },
   "outputs": [],
   "source": [
    "#scaler = StandardScaler()\n",
    "#scaler.fit(X_train)\n",
    "#X_train = scaler.transform(X_train)\n",
    "#X_test = scaler.transform(X_test)"
   ]
  },
  {
   "cell_type": "code",
   "execution_count": 36,
   "metadata": {
    "ExecuteTime": {
     "end_time": "2020-03-27T17:52:26.211705Z",
     "start_time": "2020-03-27T17:52:26.192716Z"
    }
   },
   "outputs": [
    {
     "data": {
      "text/html": [
       "<div>\n",
       "<style scoped>\n",
       "    .dataframe tbody tr th:only-of-type {\n",
       "        vertical-align: middle;\n",
       "    }\n",
       "\n",
       "    .dataframe tbody tr th {\n",
       "        vertical-align: top;\n",
       "    }\n",
       "\n",
       "    .dataframe thead th {\n",
       "        text-align: right;\n",
       "    }\n",
       "</style>\n",
       "<table border=\"1\" class=\"dataframe\">\n",
       "  <thead>\n",
       "    <tr style=\"text-align: right;\">\n",
       "      <th></th>\n",
       "      <th>umidade</th>\n",
       "      <th>temperatura</th>\n",
       "      <th>pressao</th>\n",
       "      <th>vento_ang</th>\n",
       "      <th>vent_veloc</th>\n",
       "      <th>chuva</th>\n",
       "    </tr>\n",
       "  </thead>\n",
       "  <tbody>\n",
       "    <tr>\n",
       "      <th>23850</th>\n",
       "      <td>87</td>\n",
       "      <td>24.6</td>\n",
       "      <td>1019</td>\n",
       "      <td>212</td>\n",
       "      <td>1.8</td>\n",
       "      <td>0</td>\n",
       "    </tr>\n",
       "    <tr>\n",
       "      <th>28339</th>\n",
       "      <td>91</td>\n",
       "      <td>27.0</td>\n",
       "      <td>1016</td>\n",
       "      <td>353</td>\n",
       "      <td>0.0</td>\n",
       "      <td>0</td>\n",
       "    </tr>\n",
       "    <tr>\n",
       "      <th>4234</th>\n",
       "      <td>91</td>\n",
       "      <td>27.3</td>\n",
       "      <td>1012</td>\n",
       "      <td>261</td>\n",
       "      <td>0.0</td>\n",
       "      <td>0</td>\n",
       "    </tr>\n",
       "    <tr>\n",
       "      <th>5536</th>\n",
       "      <td>97</td>\n",
       "      <td>27.2</td>\n",
       "      <td>1012</td>\n",
       "      <td>289</td>\n",
       "      <td>0.0</td>\n",
       "      <td>0</td>\n",
       "    </tr>\n",
       "    <tr>\n",
       "      <th>39234</th>\n",
       "      <td>87</td>\n",
       "      <td>22.8</td>\n",
       "      <td>1018</td>\n",
       "      <td>236</td>\n",
       "      <td>0.0</td>\n",
       "      <td>0</td>\n",
       "    </tr>\n",
       "    <tr>\n",
       "      <th>27237</th>\n",
       "      <td>92</td>\n",
       "      <td>25.4</td>\n",
       "      <td>1018</td>\n",
       "      <td>257</td>\n",
       "      <td>0.0</td>\n",
       "      <td>0</td>\n",
       "    </tr>\n",
       "    <tr>\n",
       "      <th>29370</th>\n",
       "      <td>86</td>\n",
       "      <td>28.8</td>\n",
       "      <td>1011</td>\n",
       "      <td>27</td>\n",
       "      <td>3.7</td>\n",
       "      <td>0</td>\n",
       "    </tr>\n",
       "    <tr>\n",
       "      <th>34067</th>\n",
       "      <td>63</td>\n",
       "      <td>22.1</td>\n",
       "      <td>1017</td>\n",
       "      <td>224</td>\n",
       "      <td>0.0</td>\n",
       "      <td>0</td>\n",
       "    </tr>\n",
       "    <tr>\n",
       "      <th>32039</th>\n",
       "      <td>68</td>\n",
       "      <td>31.1</td>\n",
       "      <td>1006</td>\n",
       "      <td>272</td>\n",
       "      <td>1.6</td>\n",
       "      <td>0</td>\n",
       "    </tr>\n",
       "    <tr>\n",
       "      <th>7040</th>\n",
       "      <td>96</td>\n",
       "      <td>25.6</td>\n",
       "      <td>1012</td>\n",
       "      <td>233</td>\n",
       "      <td>0.0</td>\n",
       "      <td>0</td>\n",
       "    </tr>\n",
       "  </tbody>\n",
       "</table>\n",
       "</div>"
      ],
      "text/plain": [
       "       umidade  temperatura  pressao  vento_ang  vent_veloc  chuva\n",
       "23850       87         24.6     1019        212         1.8      0\n",
       "28339       91         27.0     1016        353         0.0      0\n",
       "4234        91         27.3     1012        261         0.0      0\n",
       "5536        97         27.2     1012        289         0.0      0\n",
       "39234       87         22.8     1018        236         0.0      0\n",
       "27237       92         25.4     1018        257         0.0      0\n",
       "29370       86         28.8     1011         27         3.7      0\n",
       "34067       63         22.1     1017        224         0.0      0\n",
       "32039       68         31.1     1006        272         1.6      0\n",
       "7040        96         25.6     1012        233         0.0      0"
      ]
     },
     "execution_count": 36,
     "metadata": {},
     "output_type": "execute_result"
    }
   ],
   "source": [
    "X_train[0:10]"
   ]
  },
  {
   "cell_type": "code",
   "execution_count": 37,
   "metadata": {
    "ExecuteTime": {
     "end_time": "2020-03-27T17:52:28.048693Z",
     "start_time": "2020-03-27T17:52:28.021697Z"
    }
   },
   "outputs": [],
   "source": [
    "# Establish model\n",
    "model = RandomForestRegressor(n_jobs=-1)"
   ]
  },
  {
   "cell_type": "code",
   "execution_count": 38,
   "metadata": {
    "ExecuteTime": {
     "end_time": "2020-03-27T18:08:31.796644Z",
     "start_time": "2020-03-27T17:52:30.060855Z"
    }
   },
   "outputs": [
    {
     "data": {
      "text/plain": [
       "[<matplotlib.lines.Line2D at 0x2de59b4d828>]"
      ]
     },
     "execution_count": 38,
     "metadata": {},
     "output_type": "execute_result"
    },
    {
     "data": {
      "image/png": "[encoded data removed]",
      "text/plain": [
       "<Figure size 432x288 with 1 Axes>"
      ]
     },
     "metadata": {
      "needs_background": "light"
     },
     "output_type": "display_data"
    }
   ],
   "source": [
    "estimators = np.arange(10, 300, 10)\n",
    "scores = []\n",
    "for n in estimators:\n",
    "    model.set_params(n_estimators=n)\n",
    "    model.fit(X_train, y_train)\n",
    "    scores.append(model.score(X_test, y_test))\n",
    "plt.title(\"Effect of n_estimators\")\n",
    "plt.xlabel(\"n_estimator\")\n",
    "plt.ylabel(\"score\")\n",
    "plt.plot(estimators, scores)"
   ]
  },
  {
   "cell_type": "code",
   "execution_count": 39,
   "metadata": {
    "ExecuteTime": {
     "end_time": "2020-03-27T18:11:32.629939Z",
     "start_time": "2020-03-27T18:11:32.620935Z"
    }
   },
   "outputs": [
    {
     "data": {
      "text/plain": [
       "[-0.23049478011019087,\n",
       " -0.1918659038704691,\n",
       " -0.20474039813916933,\n",
       " -0.1827234590504936,\n",
       " -0.17506254142880295,\n",
       " -0.17726098689148603,\n",
       " -0.17329661628386073,\n",
       " -0.16213366841764043,\n",
       " -0.15407949239831553,\n",
       " -0.16167709708969347,\n",
       " -0.17786158290758292,\n",
       " -0.16312090028028448,\n",
       " -0.17707501184410646,\n",
       " -0.16074919350596573,\n",
       " -0.1721780665050976,\n",
       " -0.17660815067675606,\n",
       " -0.16662928372754893,\n",
       " -0.16585819856663012,\n",
       " -0.1653703941054108,\n",
       " -0.17105770392711617,\n",
       " -0.16340375379462735,\n",
       " -0.18480060864766612,\n",
       " -0.17272755292375375,\n",
       " -0.17047335592728796,\n",
       " -0.16960257445520943,\n",
       " -0.17787690475211382,\n",
       " -0.16569276507362996,\n",
       " -0.16416096533863866,\n",
       " -0.16880993194772742]"
      ]
     },
     "execution_count": 39,
     "metadata": {},
     "output_type": "execute_result"
    }
   ],
   "source": [
    "scores"
   ]
  },
  {
   "cell_type": "code",
   "execution_count": null,
   "metadata": {},
   "outputs": [],
   "source": []
  }
 ],
 "metadata": {
  "hide_input": false,
  "kernelspec": {
   "display_name": "Python 3",
   "language": "python",
   "name": "python3"
  },
  "language_info": {
   "codemirror_mode": {
    "name": "ipython",
    "version": 3
   },
   "file_extension": ".py",
   "mimetype": "text/x-python",
   "name": "python",
   "nbconvert_exporter": "python",
   "pygments_lexer": "ipython3",
   "version": "3.6.8"
  }
 },
 "nbformat": 4,
 "nbformat_minor": 2
}
