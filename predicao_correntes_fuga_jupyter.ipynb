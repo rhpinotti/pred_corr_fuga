{
 "cells": [
  {
   "cell_type": "code",
   "execution_count": 1,
   "metadata": {},
   "outputs": [],
   "source": [
    "import pandas as pd\n",
    "import numpy as np\n",
    "import matplotlib.pyplot as plt\n",
    "import seaborn as sns\n",
    "from sklearn.model_selection import train_test_split\n",
    "from sklearn.linear_model import LinearRegression\n",
    "from sklearn.metrics import mean_squared_error\n",
    "from sklearn.tree import DecisionTreeRegressor\n",
    "from sklearn.ensemble import RandomForestRegressor\n",
    "from sklearn.model_selection import GridSearchCV\n",
    "from sklearn.metrics import accuracy_score\n",
    "%matplotlib inline\n",
    "import warnings\n",
    "warnings.filterwarnings('ignore')"
   ]
  },
  {
   "cell_type": "markdown",
   "metadata": {},
   "source": [
    "#### Aquisição dos dados"
   ]
  },
  {
   "cell_type": "code",
   "execution_count": 2,
   "metadata": {},
   "outputs": [],
   "source": [
    "# Importar dados de arquivo csv, onde o separador de campos é '.' e o separador de casas decimais é ','\n",
    "df = pd.read_csv('dados/dados_isolador40.csv', sep=';', decimal=',')"
   ]
  },
  {
   "cell_type": "markdown",
   "metadata": {},
   "source": [
    "#### Análise exploratória dos dados"
   ]
  },
  {
   "cell_type": "code",
   "execution_count": 3,
   "metadata": {},
   "outputs": [
    {
     "data": {
      "text/html": [
       "<div>\n",
       "<style scoped>\n",
       "    .dataframe tbody tr th:only-of-type {\n",
       "        vertical-align: middle;\n",
       "    }\n",
       "\n",
       "    .dataframe tbody tr th {\n",
       "        vertical-align: top;\n",
       "    }\n",
       "\n",
       "    .dataframe thead th {\n",
       "        text-align: right;\n",
       "    }\n",
       "</style>\n",
       "<table border=\"1\" class=\"dataframe\">\n",
       "  <thead>\n",
       "    <tr style=\"text-align: right;\">\n",
       "      <th></th>\n",
       "      <th>umidade</th>\n",
       "      <th>temperatura</th>\n",
       "      <th>pressao</th>\n",
       "      <th>vento_ang</th>\n",
       "      <th>vent_veloc</th>\n",
       "      <th>chuva</th>\n",
       "      <th>corrente_fuga</th>\n",
       "    </tr>\n",
       "  </thead>\n",
       "  <tbody>\n",
       "    <tr>\n",
       "      <th>0</th>\n",
       "      <td>70</td>\n",
       "      <td>29.6</td>\n",
       "      <td>1016</td>\n",
       "      <td>278</td>\n",
       "      <td>1.4</td>\n",
       "      <td>0</td>\n",
       "      <td>0.024992</td>\n",
       "    </tr>\n",
       "    <tr>\n",
       "      <th>1</th>\n",
       "      <td>69</td>\n",
       "      <td>29.7</td>\n",
       "      <td>1016</td>\n",
       "      <td>297</td>\n",
       "      <td>1.4</td>\n",
       "      <td>0</td>\n",
       "      <td>0.022767</td>\n",
       "    </tr>\n",
       "    <tr>\n",
       "      <th>2</th>\n",
       "      <td>70</td>\n",
       "      <td>29.8</td>\n",
       "      <td>1016</td>\n",
       "      <td>273</td>\n",
       "      <td>1.6</td>\n",
       "      <td>0</td>\n",
       "      <td>0.022607</td>\n",
       "    </tr>\n",
       "    <tr>\n",
       "      <th>3</th>\n",
       "      <td>68</td>\n",
       "      <td>29.8</td>\n",
       "      <td>1016</td>\n",
       "      <td>243</td>\n",
       "      <td>2.6</td>\n",
       "      <td>0</td>\n",
       "      <td>0.022426</td>\n",
       "    </tr>\n",
       "    <tr>\n",
       "      <th>4</th>\n",
       "      <td>68</td>\n",
       "      <td>29.7</td>\n",
       "      <td>1016</td>\n",
       "      <td>257</td>\n",
       "      <td>2.8</td>\n",
       "      <td>0</td>\n",
       "      <td>0.031797</td>\n",
       "    </tr>\n",
       "  </tbody>\n",
       "</table>\n",
       "</div>"
      ],
      "text/plain": [
       "   umidade  temperatura  pressao  vento_ang  vent_veloc  chuva  corrente_fuga\n",
       "0       70         29.6     1016        278         1.4      0       0.024992\n",
       "1       69         29.7     1016        297         1.4      0       0.022767\n",
       "2       70         29.8     1016        273         1.6      0       0.022607\n",
       "3       68         29.8     1016        243         2.6      0       0.022426\n",
       "4       68         29.7     1016        257         2.8      0       0.031797"
      ]
     },
     "execution_count": 3,
     "metadata": {},
     "output_type": "execute_result"
    }
   ],
   "source": [
    "# 5 primeiros registros do dataframe\n",
    "df.head()"
   ]
  },
  {
   "cell_type": "code",
   "execution_count": 4,
   "metadata": {},
   "outputs": [
    {
     "data": {
      "text/plain": [
       "(40316, 7)"
      ]
     },
     "execution_count": 4,
     "metadata": {},
     "output_type": "execute_result"
    }
   ],
   "source": [
    "# Formato do dataframe (registros/colunas)\n",
    "df.shape"
   ]
  },
  {
   "cell_type": "code",
   "execution_count": 5,
   "metadata": {},
   "outputs": [
    {
     "data": {
      "text/html": [
       "<div>\n",
       "<style scoped>\n",
       "    .dataframe tbody tr th:only-of-type {\n",
       "        vertical-align: middle;\n",
       "    }\n",
       "\n",
       "    .dataframe tbody tr th {\n",
       "        vertical-align: top;\n",
       "    }\n",
       "\n",
       "    .dataframe thead th {\n",
       "        text-align: right;\n",
       "    }\n",
       "</style>\n",
       "<table border=\"1\" class=\"dataframe\">\n",
       "  <thead>\n",
       "    <tr style=\"text-align: right;\">\n",
       "      <th></th>\n",
       "      <th>umidade</th>\n",
       "      <th>temperatura</th>\n",
       "      <th>pressao</th>\n",
       "      <th>vento_ang</th>\n",
       "      <th>vent_veloc</th>\n",
       "      <th>chuva</th>\n",
       "      <th>corrente_fuga</th>\n",
       "    </tr>\n",
       "  </thead>\n",
       "  <tbody>\n",
       "    <tr>\n",
       "      <th>count</th>\n",
       "      <td>40316.000000</td>\n",
       "      <td>40316.000000</td>\n",
       "      <td>40316.000000</td>\n",
       "      <td>40316.000000</td>\n",
       "      <td>40316.000000</td>\n",
       "      <td>40316.000000</td>\n",
       "      <td>40316.000000</td>\n",
       "    </tr>\n",
       "    <tr>\n",
       "      <th>mean</th>\n",
       "      <td>80.507069</td>\n",
       "      <td>27.179539</td>\n",
       "      <td>1013.934195</td>\n",
       "      <td>179.871738</td>\n",
       "      <td>1.433518</td>\n",
       "      <td>0.348274</td>\n",
       "      <td>0.036329</td>\n",
       "    </tr>\n",
       "    <tr>\n",
       "      <th>std</th>\n",
       "      <td>12.887528</td>\n",
       "      <td>3.133381</td>\n",
       "      <td>3.576448</td>\n",
       "      <td>99.311229</td>\n",
       "      <td>1.330448</td>\n",
       "      <td>2.700848</td>\n",
       "      <td>0.002511</td>\n",
       "    </tr>\n",
       "    <tr>\n",
       "      <th>min</th>\n",
       "      <td>34.000000</td>\n",
       "      <td>18.600000</td>\n",
       "      <td>1006.000000</td>\n",
       "      <td>0.000000</td>\n",
       "      <td>0.000000</td>\n",
       "      <td>0.000000</td>\n",
       "      <td>0.022426</td>\n",
       "    </tr>\n",
       "    <tr>\n",
       "      <th>25%</th>\n",
       "      <td>71.000000</td>\n",
       "      <td>25.200000</td>\n",
       "      <td>1011.000000</td>\n",
       "      <td>75.000000</td>\n",
       "      <td>0.000000</td>\n",
       "      <td>0.000000</td>\n",
       "      <td>0.035073</td>\n",
       "    </tr>\n",
       "    <tr>\n",
       "      <th>50%</th>\n",
       "      <td>85.000000</td>\n",
       "      <td>26.700000</td>\n",
       "      <td>1013.000000</td>\n",
       "      <td>210.000000</td>\n",
       "      <td>1.400000</td>\n",
       "      <td>0.000000</td>\n",
       "      <td>0.036337</td>\n",
       "    </tr>\n",
       "    <tr>\n",
       "      <th>75%</th>\n",
       "      <td>91.000000</td>\n",
       "      <td>29.200000</td>\n",
       "      <td>1017.000000</td>\n",
       "      <td>265.000000</td>\n",
       "      <td>2.400000</td>\n",
       "      <td>0.000000</td>\n",
       "      <td>0.037321</td>\n",
       "    </tr>\n",
       "    <tr>\n",
       "      <th>max</th>\n",
       "      <td>98.000000</td>\n",
       "      <td>37.400000</td>\n",
       "      <td>1022.000000</td>\n",
       "      <td>357.000000</td>\n",
       "      <td>11.900000</td>\n",
       "      <td>100.000000</td>\n",
       "      <td>0.105487</td>\n",
       "    </tr>\n",
       "  </tbody>\n",
       "</table>\n",
       "</div>"
      ],
      "text/plain": [
       "            umidade   temperatura       pressao     vento_ang    vent_veloc  \\\n",
       "count  40316.000000  40316.000000  40316.000000  40316.000000  40316.000000   \n",
       "mean      80.507069     27.179539   1013.934195    179.871738      1.433518   \n",
       "std       12.887528      3.133381      3.576448     99.311229      1.330448   \n",
       "min       34.000000     18.600000   1006.000000      0.000000      0.000000   \n",
       "25%       71.000000     25.200000   1011.000000     75.000000      0.000000   \n",
       "50%       85.000000     26.700000   1013.000000    210.000000      1.400000   \n",
       "75%       91.000000     29.200000   1017.000000    265.000000      2.400000   \n",
       "max       98.000000     37.400000   1022.000000    357.000000     11.900000   \n",
       "\n",
       "              chuva  corrente_fuga  \n",
       "count  40316.000000   40316.000000  \n",
       "mean       0.348274       0.036329  \n",
       "std        2.700848       0.002511  \n",
       "min        0.000000       0.022426  \n",
       "25%        0.000000       0.035073  \n",
       "50%        0.000000       0.036337  \n",
       "75%        0.000000       0.037321  \n",
       "max      100.000000       0.105487  "
      ]
     },
     "execution_count": 5,
     "metadata": {},
     "output_type": "execute_result"
    }
   ],
   "source": [
    "# Informações estatísticas do dataframe\n",
    "df.describe()\n",
    "# Notamos que existem atributos com valor mínimo igual a zero."
   ]
  },
  {
   "cell_type": "code",
   "execution_count": 6,
   "metadata": {},
   "outputs": [
    {
     "data": {
      "text/plain": [
       "False"
      ]
     },
     "execution_count": 6,
     "metadata": {},
     "output_type": "execute_result"
    }
   ],
   "source": [
    "# Verificando se existem valores nulos/missing\n",
    "df.isnull().values.any()"
   ]
  },
  {
   "cell_type": "code",
   "execution_count": 7,
   "metadata": {},
   "outputs": [
    {
     "data": {
      "text/plain": [
       "umidade          0\n",
       "temperatura      0\n",
       "pressao          0\n",
       "vento_ang        0\n",
       "vent_veloc       0\n",
       "chuva            0\n",
       "corrente_fuga    0\n",
       "dtype: int64"
      ]
     },
     "execution_count": 7,
     "metadata": {},
     "output_type": "execute_result"
    }
   ],
   "source": [
    "# Verificando a quantidade de registros nulos\n",
    "df.isnull().sum()"
   ]
  },
  {
   "cell_type": "code",
   "execution_count": 8,
   "metadata": {},
   "outputs": [
    {
     "data": {
      "text/plain": [
       "umidade              0\n",
       "temperatura          0\n",
       "pressao              0\n",
       "vento_ang           92\n",
       "vent_veloc       14511\n",
       "chuva            38064\n",
       "corrente_fuga        0\n",
       "dtype: int64"
      ]
     },
     "execution_count": 8,
     "metadata": {},
     "output_type": "execute_result"
    }
   ],
   "source": [
    "# Verificando a quantidade de registros com valor zero em cada atributo.\n",
    "(df == 0).sum()\n",
    "# Devido à quantidade de valores zerados no atributo chuva, em relação ao total de registros,\n",
    "# verificar se o atributo exerce alguma influência no modelo."
   ]
  },
  {
   "cell_type": "code",
   "execution_count": 9,
   "metadata": {},
   "outputs": [
    {
     "data": {
      "text/html": [
       "<style  type=\"text/css\" >\n",
       "    #T_fb144d10_6843_11ea_a796_14feb5a8172arow0_col0 {\n",
       "            background-color:  #b40426;\n",
       "            color:  #f1f1f1;\n",
       "        }    #T_fb144d10_6843_11ea_a796_14feb5a8172arow0_col1 {\n",
       "            background-color:  #465ecf;\n",
       "            color:  #f1f1f1;\n",
       "        }    #T_fb144d10_6843_11ea_a796_14feb5a8172arow0_col2 {\n",
       "            background-color:  #7b9ff9;\n",
       "            color:  #000000;\n",
       "        }    #T_fb144d10_6843_11ea_a796_14feb5a8172arow0_col3 {\n",
       "            background-color:  #e9d5cb;\n",
       "            color:  #000000;\n",
       "        }    #T_fb144d10_6843_11ea_a796_14feb5a8172arow0_col4 {\n",
       "            background-color:  #3b4cc0;\n",
       "            color:  #f1f1f1;\n",
       "        }    #T_fb144d10_6843_11ea_a796_14feb5a8172arow0_col5 {\n",
       "            background-color:  #c3d5f4;\n",
       "            color:  #000000;\n",
       "        }    #T_fb144d10_6843_11ea_a796_14feb5a8172arow0_col6 {\n",
       "            background-color:  #ee8468;\n",
       "            color:  #000000;\n",
       "        }    #T_fb144d10_6843_11ea_a796_14feb5a8172arow1_col0 {\n",
       "            background-color:  #3b4cc0;\n",
       "            color:  #f1f1f1;\n",
       "        }    #T_fb144d10_6843_11ea_a796_14feb5a8172arow1_col1 {\n",
       "            background-color:  #b40426;\n",
       "            color:  #f1f1f1;\n",
       "        }    #T_fb144d10_6843_11ea_a796_14feb5a8172arow1_col2 {\n",
       "            background-color:  #4358cb;\n",
       "            color:  #f1f1f1;\n",
       "        }    #T_fb144d10_6843_11ea_a796_14feb5a8172arow1_col3 {\n",
       "            background-color:  #3b4cc0;\n",
       "            color:  #f1f1f1;\n",
       "        }    #T_fb144d10_6843_11ea_a796_14feb5a8172arow1_col4 {\n",
       "            background-color:  #f4c5ad;\n",
       "            color:  #000000;\n",
       "        }    #T_fb144d10_6843_11ea_a796_14feb5a8172arow1_col5 {\n",
       "            background-color:  #85a8fc;\n",
       "            color:  #000000;\n",
       "        }    #T_fb144d10_6843_11ea_a796_14feb5a8172arow1_col6 {\n",
       "            background-color:  #4e68d8;\n",
       "            color:  #000000;\n",
       "        }    #T_fb144d10_6843_11ea_a796_14feb5a8172arow2_col0 {\n",
       "            background-color:  #6687ed;\n",
       "            color:  #000000;\n",
       "        }    #T_fb144d10_6843_11ea_a796_14feb5a8172arow2_col1 {\n",
       "            background-color:  #3b4cc0;\n",
       "            color:  #f1f1f1;\n",
       "        }    #T_fb144d10_6843_11ea_a796_14feb5a8172arow2_col2 {\n",
       "            background-color:  #b40426;\n",
       "            color:  #f1f1f1;\n",
       "        }    #T_fb144d10_6843_11ea_a796_14feb5a8172arow2_col3 {\n",
       "            background-color:  #96b7ff;\n",
       "            color:  #000000;\n",
       "        }    #T_fb144d10_6843_11ea_a796_14feb5a8172arow2_col4 {\n",
       "            background-color:  #8db0fe;\n",
       "            color:  #000000;\n",
       "        }    #T_fb144d10_6843_11ea_a796_14feb5a8172arow2_col5 {\n",
       "            background-color:  #a5c3fe;\n",
       "            color:  #000000;\n",
       "        }    #T_fb144d10_6843_11ea_a796_14feb5a8172arow2_col6 {\n",
       "            background-color:  #89acfd;\n",
       "            color:  #000000;\n",
       "        }    #T_fb144d10_6843_11ea_a796_14feb5a8172arow3_col0 {\n",
       "            background-color:  #e4d9d2;\n",
       "            color:  #000000;\n",
       "        }    #T_fb144d10_6843_11ea_a796_14feb5a8172arow3_col1 {\n",
       "            background-color:  #3b4cc0;\n",
       "            color:  #f1f1f1;\n",
       "        }    #T_fb144d10_6843_11ea_a796_14feb5a8172arow3_col2 {\n",
       "            background-color:  #9ebeff;\n",
       "            color:  #000000;\n",
       "        }    #T_fb144d10_6843_11ea_a796_14feb5a8172arow3_col3 {\n",
       "            background-color:  #b40426;\n",
       "            color:  #f1f1f1;\n",
       "        }    #T_fb144d10_6843_11ea_a796_14feb5a8172arow3_col4 {\n",
       "            background-color:  #4f69d9;\n",
       "            color:  #000000;\n",
       "        }    #T_fb144d10_6843_11ea_a796_14feb5a8172arow3_col5 {\n",
       "            background-color:  #aac7fd;\n",
       "            color:  #000000;\n",
       "        }    #T_fb144d10_6843_11ea_a796_14feb5a8172arow3_col6 {\n",
       "            background-color:  #d3dbe7;\n",
       "            color:  #000000;\n",
       "        }    #T_fb144d10_6843_11ea_a796_14feb5a8172arow4_col0 {\n",
       "            background-color:  #3b4cc0;\n",
       "            color:  #f1f1f1;\n",
       "        }    #T_fb144d10_6843_11ea_a796_14feb5a8172arow4_col1 {\n",
       "            background-color:  #f5c0a7;\n",
       "            color:  #000000;\n",
       "        }    #T_fb144d10_6843_11ea_a796_14feb5a8172arow4_col2 {\n",
       "            background-color:  #9fbfff;\n",
       "            color:  #000000;\n",
       "        }    #T_fb144d10_6843_11ea_a796_14feb5a8172arow4_col3 {\n",
       "            background-color:  #5b7ae5;\n",
       "            color:  #000000;\n",
       "        }    #T_fb144d10_6843_11ea_a796_14feb5a8172arow4_col4 {\n",
       "            background-color:  #b40426;\n",
       "            color:  #f1f1f1;\n",
       "        }    #T_fb144d10_6843_11ea_a796_14feb5a8172arow4_col5 {\n",
       "            background-color:  #aac7fd;\n",
       "            color:  #000000;\n",
       "        }    #T_fb144d10_6843_11ea_a796_14feb5a8172arow4_col6 {\n",
       "            background-color:  #6384eb;\n",
       "            color:  #000000;\n",
       "        }    #T_fb144d10_6843_11ea_a796_14feb5a8172arow5_col0 {\n",
       "            background-color:  #7b9ff9;\n",
       "            color:  #000000;\n",
       "        }    #T_fb144d10_6843_11ea_a796_14feb5a8172arow5_col1 {\n",
       "            background-color:  #3b4cc0;\n",
       "            color:  #f1f1f1;\n",
       "        }    #T_fb144d10_6843_11ea_a796_14feb5a8172arow5_col2 {\n",
       "            background-color:  #6687ed;\n",
       "            color:  #000000;\n",
       "        }    #T_fb144d10_6843_11ea_a796_14feb5a8172arow5_col3 {\n",
       "            background-color:  #6687ed;\n",
       "            color:  #000000;\n",
       "        }    #T_fb144d10_6843_11ea_a796_14feb5a8172arow5_col4 {\n",
       "            background-color:  #5875e1;\n",
       "            color:  #000000;\n",
       "        }    #T_fb144d10_6843_11ea_a796_14feb5a8172arow5_col5 {\n",
       "            background-color:  #b40426;\n",
       "            color:  #f1f1f1;\n",
       "        }    #T_fb144d10_6843_11ea_a796_14feb5a8172arow5_col6 {\n",
       "            background-color:  #b5cdfa;\n",
       "            color:  #000000;\n",
       "        }    #T_fb144d10_6843_11ea_a796_14feb5a8172arow6_col0 {\n",
       "            background-color:  #f18f71;\n",
       "            color:  #000000;\n",
       "        }    #T_fb144d10_6843_11ea_a796_14feb5a8172arow6_col1 {\n",
       "            background-color:  #3b4cc0;\n",
       "            color:  #f1f1f1;\n",
       "        }    #T_fb144d10_6843_11ea_a796_14feb5a8172arow6_col2 {\n",
       "            background-color:  #80a3fa;\n",
       "            color:  #000000;\n",
       "        }    #T_fb144d10_6843_11ea_a796_14feb5a8172arow6_col3 {\n",
       "            background-color:  #c9d7f0;\n",
       "            color:  #000000;\n",
       "        }    #T_fb144d10_6843_11ea_a796_14feb5a8172arow6_col4 {\n",
       "            background-color:  #4358cb;\n",
       "            color:  #f1f1f1;\n",
       "        }    #T_fb144d10_6843_11ea_a796_14feb5a8172arow6_col5 {\n",
       "            background-color:  #d7dce3;\n",
       "            color:  #000000;\n",
       "        }    #T_fb144d10_6843_11ea_a796_14feb5a8172arow6_col6 {\n",
       "            background-color:  #b40426;\n",
       "            color:  #f1f1f1;\n",
       "        }</style><table id=\"T_fb144d10_6843_11ea_a796_14feb5a8172a\" ><thead>    <tr>        <th class=\"blank level0\" ></th>        <th class=\"col_heading level0 col0\" >umidade</th>        <th class=\"col_heading level0 col1\" >temperatura</th>        <th class=\"col_heading level0 col2\" >pressao</th>        <th class=\"col_heading level0 col3\" >vento_ang</th>        <th class=\"col_heading level0 col4\" >vent_veloc</th>        <th class=\"col_heading level0 col5\" >chuva</th>        <th class=\"col_heading level0 col6\" >corrente_fuga</th>    </tr></thead><tbody>\n",
       "                <tr>\n",
       "                        <th id=\"T_fb144d10_6843_11ea_a796_14feb5a8172alevel0_row0\" class=\"row_heading level0 row0\" >umidade</th>\n",
       "                        <td id=\"T_fb144d10_6843_11ea_a796_14feb5a8172arow0_col0\" class=\"data row0 col0\" >1.0</td>\n",
       "                        <td id=\"T_fb144d10_6843_11ea_a796_14feb5a8172arow0_col1\" class=\"data row0 col1\" >-0.44157</td>\n",
       "                        <td id=\"T_fb144d10_6843_11ea_a796_14feb5a8172arow0_col2\" class=\"data row0 col2\" >-0.20368</td>\n",
       "                        <td id=\"T_fb144d10_6843_11ea_a796_14feb5a8172arow0_col3\" class=\"data row0 col3\" >0.32259</td>\n",
       "                        <td id=\"T_fb144d10_6843_11ea_a796_14feb5a8172arow0_col4\" class=\"data row0 col4\" >-0.50396</td>\n",
       "                        <td id=\"T_fb144d10_6843_11ea_a796_14feb5a8172arow0_col5\" class=\"data row0 col5\" >0.11214</td>\n",
       "                        <td id=\"T_fb144d10_6843_11ea_a796_14feb5a8172arow0_col6\" class=\"data row0 col6\" >0.69658</td>\n",
       "            </tr>\n",
       "            <tr>\n",
       "                        <th id=\"T_fb144d10_6843_11ea_a796_14feb5a8172alevel0_row1\" class=\"row_heading level0 row1\" >temperatura</th>\n",
       "                        <td id=\"T_fb144d10_6843_11ea_a796_14feb5a8172arow1_col0\" class=\"data row1 col0\" >-0.44157</td>\n",
       "                        <td id=\"T_fb144d10_6843_11ea_a796_14feb5a8172arow1_col1\" class=\"data row1 col1\" >1.0</td>\n",
       "                        <td id=\"T_fb144d10_6843_11ea_a796_14feb5a8172arow1_col2\" class=\"data row1 col2\" >-0.39874</td>\n",
       "                        <td id=\"T_fb144d10_6843_11ea_a796_14feb5a8172arow1_col3\" class=\"data row1 col3\" >-0.43925</td>\n",
       "                        <td id=\"T_fb144d10_6843_11ea_a796_14feb5a8172arow1_col4\" class=\"data row1 col4\" >0.45762</td>\n",
       "                        <td id=\"T_fb144d10_6843_11ea_a796_14feb5a8172arow1_col5\" class=\"data row1 col5\" >-0.11037</td>\n",
       "                        <td id=\"T_fb144d10_6843_11ea_a796_14feb5a8172arow1_col6\" class=\"data row1 col6\" >-0.34919</td>\n",
       "            </tr>\n",
       "            <tr>\n",
       "                        <th id=\"T_fb144d10_6843_11ea_a796_14feb5a8172alevel0_row2\" class=\"row_heading level0 row2\" >pressao</th>\n",
       "                        <td id=\"T_fb144d10_6843_11ea_a796_14feb5a8172arow2_col0\" class=\"data row2 col0\" >-0.20368</td>\n",
       "                        <td id=\"T_fb144d10_6843_11ea_a796_14feb5a8172arow2_col1\" class=\"data row2 col1\" >-0.39874</td>\n",
       "                        <td id=\"T_fb144d10_6843_11ea_a796_14feb5a8172arow2_col2\" class=\"data row2 col2\" >1.0</td>\n",
       "                        <td id=\"T_fb144d10_6843_11ea_a796_14feb5a8172arow2_col3\" class=\"data row2 col3\" >-0.011539</td>\n",
       "                        <td id=\"T_fb144d10_6843_11ea_a796_14feb5a8172arow2_col4\" class=\"data row2 col4\" >-0.045943</td>\n",
       "                        <td id=\"T_fb144d10_6843_11ea_a796_14feb5a8172arow2_col5\" class=\"data row2 col5\" >0.044076</td>\n",
       "                        <td id=\"T_fb144d10_6843_11ea_a796_14feb5a8172arow2_col6\" class=\"data row2 col6\" >-0.064254</td>\n",
       "            </tr>\n",
       "            <tr>\n",
       "                        <th id=\"T_fb144d10_6843_11ea_a796_14feb5a8172alevel0_row3\" class=\"row_heading level0 row3\" >vento_ang</th>\n",
       "                        <td id=\"T_fb144d10_6843_11ea_a796_14feb5a8172arow3_col0\" class=\"data row3 col0\" >0.32259</td>\n",
       "                        <td id=\"T_fb144d10_6843_11ea_a796_14feb5a8172arow3_col1\" class=\"data row3 col1\" >-0.43925</td>\n",
       "                        <td id=\"T_fb144d10_6843_11ea_a796_14feb5a8172arow3_col2\" class=\"data row3 col2\" >-0.011539</td>\n",
       "                        <td id=\"T_fb144d10_6843_11ea_a796_14feb5a8172arow3_col3\" class=\"data row3 col3\" >1.0</td>\n",
       "                        <td id=\"T_fb144d10_6843_11ea_a796_14feb5a8172arow3_col4\" class=\"data row3 col4\" >-0.34307</td>\n",
       "                        <td id=\"T_fb144d10_6843_11ea_a796_14feb5a8172arow3_col5\" class=\"data row3 col5\" >0.0424</td>\n",
       "                        <td id=\"T_fb144d10_6843_11ea_a796_14feb5a8172arow3_col6\" class=\"data row3 col6\" >0.22667</td>\n",
       "            </tr>\n",
       "            <tr>\n",
       "                        <th id=\"T_fb144d10_6843_11ea_a796_14feb5a8172alevel0_row4\" class=\"row_heading level0 row4\" >vent_veloc</th>\n",
       "                        <td id=\"T_fb144d10_6843_11ea_a796_14feb5a8172arow4_col0\" class=\"data row4 col0\" >-0.50396</td>\n",
       "                        <td id=\"T_fb144d10_6843_11ea_a796_14feb5a8172arow4_col1\" class=\"data row4 col1\" >0.45762</td>\n",
       "                        <td id=\"T_fb144d10_6843_11ea_a796_14feb5a8172arow4_col2\" class=\"data row4 col2\" >-0.045943</td>\n",
       "                        <td id=\"T_fb144d10_6843_11ea_a796_14feb5a8172arow4_col3\" class=\"data row4 col3\" >-0.34307</td>\n",
       "                        <td id=\"T_fb144d10_6843_11ea_a796_14feb5a8172arow4_col4\" class=\"data row4 col4\" >1.0</td>\n",
       "                        <td id=\"T_fb144d10_6843_11ea_a796_14feb5a8172arow4_col5\" class=\"data row4 col5\" >-0.0043842</td>\n",
       "                        <td id=\"T_fb144d10_6843_11ea_a796_14feb5a8172arow4_col6\" class=\"data row4 col6\" >-0.3078</td>\n",
       "            </tr>\n",
       "            <tr>\n",
       "                        <th id=\"T_fb144d10_6843_11ea_a796_14feb5a8172alevel0_row5\" class=\"row_heading level0 row5\" >chuva</th>\n",
       "                        <td id=\"T_fb144d10_6843_11ea_a796_14feb5a8172arow5_col0\" class=\"data row5 col0\" >0.11214</td>\n",
       "                        <td id=\"T_fb144d10_6843_11ea_a796_14feb5a8172arow5_col1\" class=\"data row5 col1\" >-0.11037</td>\n",
       "                        <td id=\"T_fb144d10_6843_11ea_a796_14feb5a8172arow5_col2\" class=\"data row5 col2\" >0.044076</td>\n",
       "                        <td id=\"T_fb144d10_6843_11ea_a796_14feb5a8172arow5_col3\" class=\"data row5 col3\" >0.0424</td>\n",
       "                        <td id=\"T_fb144d10_6843_11ea_a796_14feb5a8172arow5_col4\" class=\"data row5 col4\" >-0.0043842</td>\n",
       "                        <td id=\"T_fb144d10_6843_11ea_a796_14feb5a8172arow5_col5\" class=\"data row5 col5\" >1.0</td>\n",
       "                        <td id=\"T_fb144d10_6843_11ea_a796_14feb5a8172arow5_col6\" class=\"data row5 col6\" >0.29679</td>\n",
       "            </tr>\n",
       "            <tr>\n",
       "                        <th id=\"T_fb144d10_6843_11ea_a796_14feb5a8172alevel0_row6\" class=\"row_heading level0 row6\" >corrente_fuga</th>\n",
       "                        <td id=\"T_fb144d10_6843_11ea_a796_14feb5a8172arow6_col0\" class=\"data row6 col0\" >0.69658</td>\n",
       "                        <td id=\"T_fb144d10_6843_11ea_a796_14feb5a8172arow6_col1\" class=\"data row6 col1\" >-0.34919</td>\n",
       "                        <td id=\"T_fb144d10_6843_11ea_a796_14feb5a8172arow6_col2\" class=\"data row6 col2\" >-0.064254</td>\n",
       "                        <td id=\"T_fb144d10_6843_11ea_a796_14feb5a8172arow6_col3\" class=\"data row6 col3\" >0.22667</td>\n",
       "                        <td id=\"T_fb144d10_6843_11ea_a796_14feb5a8172arow6_col4\" class=\"data row6 col4\" >-0.3078</td>\n",
       "                        <td id=\"T_fb144d10_6843_11ea_a796_14feb5a8172arow6_col5\" class=\"data row6 col5\" >0.29679</td>\n",
       "                        <td id=\"T_fb144d10_6843_11ea_a796_14feb5a8172arow6_col6\" class=\"data row6 col6\" >1.0</td>\n",
       "            </tr>\n",
       "    </tbody></table>"
      ],
      "text/plain": [
       "<pandas.io.formats.style.Styler at 0x1f63bfd1a58>"
      ]
     },
     "execution_count": 9,
     "metadata": {},
     "output_type": "execute_result"
    }
   ],
   "source": [
    "# Plotando a correlação entre os atributos\n",
    "df.corr().style.format(\"{:.5}\").background_gradient(cmap=plt.get_cmap('coolwarm'), axis=1)"
   ]
  },
  {
   "cell_type": "code",
   "execution_count": 10,
   "metadata": {},
   "outputs": [
    {
     "data": {
      "text/plain": [
       "umidade          0.696576\n",
       "temperatura     -0.349192\n",
       "pressao         -0.064254\n",
       "vento_ang        0.226674\n",
       "vent_veloc      -0.307804\n",
       "chuva            0.296792\n",
       "corrente_fuga    1.000000\n",
       "Name: corrente_fuga, dtype: float64"
      ]
     },
     "execution_count": 10,
     "metadata": {},
     "output_type": "execute_result"
    }
   ],
   "source": [
    "# Correlação da corrente de fuga com os demais atributos.\n",
    "df.corr()['corrente_fuga']\n",
    "# Verificamos que a pressão possui uma correlação muito baixa, verificar se faz alguma diferença no modelo."
   ]
  },
  {
   "cell_type": "code",
   "execution_count": 11,
   "metadata": {},
   "outputs": [
    {
     "data": {
      "image/png": "[encoded data removed]",
      "text/plain": [
       "<Figure size 1296x576 with 1 Axes>"
      ]
     },
     "metadata": {
      "needs_background": "light"
     },
     "output_type": "display_data"
    }
   ],
   "source": [
    "plt.figure(figsize=(18,8))\n",
    "sns.set_style('darkgrid')\n",
    "sns.distplot(df.corrente_fuga);\n",
    "# A distribuição da corrente de fuga segue uma distribuição normal."
   ]
  },
  {
   "cell_type": "markdown",
   "metadata": {},
   "source": [
    "#### Preparação dos dados para o modelo"
   ]
  },
  {
   "cell_type": "markdown",
   "metadata": {},
   "source": [
    "Apesar do atributo chuva possuir muitos registros com valor zero, e da baixa correlação da pressão, os dois atributos serão mantidos para a criação do modelo base."
   ]
  },
  {
   "cell_type": "code",
   "execution_count": 12,
   "metadata": {},
   "outputs": [
    {
     "data": {
      "text/plain": [
       "Index(['umidade', 'temperatura', 'pressao', 'vento_ang', 'vent_veloc',\n",
       "       'chuva'],\n",
       "      dtype='object')"
      ]
     },
     "execution_count": 12,
     "metadata": {},
     "output_type": "execute_result"
    }
   ],
   "source": [
    "# Excluindo a variável target 'corrente_fuga'.\n",
    "cols = df.columns.drop(['corrente_fuga'])\n",
    "cols"
   ]
  },
  {
   "cell_type": "code",
   "execution_count": 13,
   "metadata": {},
   "outputs": [],
   "source": [
    "# 80% dos dados para treino e 20% para teste.\n",
    "# O parâmetro 'random_state' (semente aleatória) garante que os resultados sejam repetíveis em qualquer máquina.\n",
    "X_train, X_test, y_train, y_test = train_test_split(df[cols], df['corrente_fuga'], test_size=0.20, random_state=42)"
   ]
  },
  {
   "cell_type": "markdown",
   "metadata": {},
   "source": [
    "#### Criando os modelos de machine learning"
   ]
  },
  {
   "cell_type": "markdown",
   "metadata": {},
   "source": [
    "##### 01. Regressão Linear"
   ]
  },
  {
   "cell_type": "code",
   "execution_count": 14,
   "metadata": {},
   "outputs": [],
   "source": [
    "lr = LinearRegression()"
   ]
  },
  {
   "cell_type": "code",
   "execution_count": 15,
   "metadata": {},
   "outputs": [],
   "source": [
    "# Treinando o modelo.\n",
    "model_lr = lr.fit(X_train, y_train)\n",
    "# Realizando a predição com os dados de teste.\n",
    "result_lr = model_lr.predict(X_test)"
   ]
  },
  {
   "cell_type": "markdown",
   "metadata": {},
   "source": [
    "Calculando o erro e computando o score para os dados de teste:"
   ]
  },
  {
   "cell_type": "code",
   "execution_count": 16,
   "metadata": {},
   "outputs": [
    {
     "name": "stdout",
     "output_type": "stream",
     "text": [
      "Resultados do erro médio e score (acurácia do modelo) para o dataset de teste:\n",
      "  MSE: 2.403077793817954e-06\n",
      " RMSE: 0.001550186373897653\n",
      "Score: 58.168%\n"
     ]
    }
   ],
   "source": [
    "# MSE: média do erro quadrado. Quanto menor o valor, mais acertivo é o modelo.\n",
    "mse_lr = mean_squared_error(y_test, result_lr)\n",
    "# RMSE: raiz quadrada do MSE (facilita a visualização do valor).\n",
    "rmse_lr = (np.sqrt(mse_lr))\n",
    "# A métrica score varia entre 0 e 1, e indica percentualmente o quanto o modelo consegue explicar os valores observados.\n",
    "# Quanto maior o valor mais explicativo é o modelo.\n",
    "score_lr = model_lr.score(X_test, y_test)\n",
    "print('Resultados do erro médio e score (acurácia do modelo) para o dataset de teste:\\n  MSE: {}'.format(mse_lr) \n",
    "      + '\\n RMSE: {}'.format(rmse_lr) \n",
    "      + '\\nScore: {:2.3f}'.format(score_lr * 100) + '%')"
   ]
  },
  {
   "cell_type": "markdown",
   "metadata": {},
   "source": [
    "###### 02. Árvore de Decisão"
   ]
  },
  {
   "cell_type": "code",
   "execution_count": 17,
   "metadata": {},
   "outputs": [],
   "source": [
    "tree = DecisionTreeRegressor()"
   ]
  },
  {
   "cell_type": "code",
   "execution_count": 18,
   "metadata": {},
   "outputs": [],
   "source": [
    "model_tree = tree.fit(X_train, y_train)\n",
    "result_tree = tree.predict(X_test)"
   ]
  },
  {
   "cell_type": "code",
   "execution_count": 19,
   "metadata": {},
   "outputs": [
    {
     "name": "stdout",
     "output_type": "stream",
     "text": [
      "Resultados do erro médio e score (acurácia do modelo) para o dataset de treino:\n",
      "  MSE: 1.2795183243996382e-06\n",
      " RMSE: 0.001131157957316147\n",
      "Score: 77.727%\n"
     ]
    }
   ],
   "source": [
    "mse_tree = mean_squared_error(y_test, result_tree)\n",
    "rmse_tree = (np.sqrt(mse_tree))\n",
    "score_tree = model_tree.score(X_test, y_test)\n",
    "print('Resultados do erro médio e score (acurácia do modelo) para o dataset de treino:\\n  MSE: {}'.format(mse_tree) \n",
    "      + '\\n RMSE: {}'.format(rmse_tree) \n",
    "      + '\\nScore: {:2.3f}'.format(score_tree * 100) + '%')"
   ]
  },
  {
   "cell_type": "markdown",
   "metadata": {},
   "source": [
    "##### 03. Random Forest"
   ]
  },
  {
   "cell_type": "code",
   "execution_count": 20,
   "metadata": {},
   "outputs": [],
   "source": [
    "tree_rf = RandomForestRegressor()"
   ]
  },
  {
   "cell_type": "code",
   "execution_count": 21,
   "metadata": {},
   "outputs": [],
   "source": [
    "model_rf = tree_rf.fit(X_train, y_train)\n",
    "result_rf = model_rf.predict(X_test)"
   ]
  },
  {
   "cell_type": "code",
   "execution_count": 22,
   "metadata": {},
   "outputs": [
    {
     "name": "stdout",
     "output_type": "stream",
     "text": [
      "Resultados do erro médio e score (acurácia do modelo) para o dataset de treino:\n",
      "  MSE: 7.65231778903489e-07\n",
      " RMSE: 0.0008747752733722468\n",
      "Score: 86.679%\n"
     ]
    }
   ],
   "source": [
    "mse_rf = mean_squared_error(y_test, result_rf)\n",
    "rmse_rf = (np.sqrt(mse_rf))\n",
    "score_rf = model_rf.score(X_test, y_test)\n",
    "print('Resultados do erro médio e score (acurácia do modelo) para o dataset de treino:\\n  MSE: {}'.format(mse_rf) \n",
    "      + '\\n RMSE: {}'.format(rmse_rf) \n",
    "      + '\\nScore: {:2.3f}'.format(score_rf * 100) + '%')"
   ]
  },
  {
   "cell_type": "markdown",
   "metadata": {},
   "source": [
    "##### 04. Random Forest com ajustes nos hiperparâmetros"
   ]
  },
  {
   "cell_type": "code",
   "execution_count": 23,
   "metadata": {},
   "outputs": [],
   "source": [
    "param = {'min_samples_leaf':[1,10],'min_samples_split':[2,10],'n_estimators':[100,250,500,750]}\n",
    "rf = RandomForestRegressor()\n",
    "grid = GridSearchCV(rf, param)"
   ]
  },
  {
   "cell_type": "code",
   "execution_count": 24,
   "metadata": {},
   "outputs": [
    {
     "data": {
      "text/plain": [
       "GridSearchCV(cv='warn', error_score='raise-deprecating',\n",
       "       estimator=RandomForestRegressor(bootstrap=True, criterion='mse', max_depth=None,\n",
       "           max_features='auto', max_leaf_nodes=None,\n",
       "           min_impurity_decrease=0.0, min_impurity_split=None,\n",
       "           min_samples_leaf=1, min_samples_split=2,\n",
       "           min_weight_fraction_leaf=0.0, n_estimators='warn', n_jobs=None,\n",
       "           oob_score=False, random_state=None, verbose=0, warm_start=False),\n",
       "       fit_params=None, iid='warn', n_jobs=None,\n",
       "       param_grid={'min_samples_leaf': [1, 10], 'min_samples_split': [2, 10], 'n_estimators': [100, 250, 500, 750]},\n",
       "       pre_dispatch='2*n_jobs', refit=True, return_train_score='warn',\n",
       "       scoring=None, verbose=0)"
      ]
     },
     "execution_count": 24,
     "metadata": {},
     "output_type": "execute_result"
    }
   ],
   "source": [
    "# Executando o grid\n",
    "grid.fit(X_train, y_train)"
   ]
  },
  {
   "cell_type": "code",
   "execution_count": 25,
   "metadata": {},
   "outputs": [
    {
     "data": {
      "text/plain": [
       "{'min_samples_leaf': 1, 'min_samples_split': 10, 'n_estimators': 250}"
      ]
     },
     "execution_count": 25,
     "metadata": {},
     "output_type": "execute_result"
    }
   ],
   "source": [
    "# Verificando os melhores parâmetros\n",
    "grid.best_params_"
   ]
  },
  {
   "cell_type": "code",
   "execution_count": 26,
   "metadata": {},
   "outputs": [],
   "source": [
    "rf_best = grid.best_estimator_"
   ]
  },
  {
   "cell_type": "code",
   "execution_count": 27,
   "metadata": {},
   "outputs": [],
   "source": [
    "result_grid = rf_best.predict(X_test)"
   ]
  },
  {
   "cell_type": "code",
   "execution_count": 28,
   "metadata": {},
   "outputs": [
    {
     "name": "stdout",
     "output_type": "stream",
     "text": [
      "Resultados do erro médio e score (acurácia do modelo) para o dataset de treino:\n",
      "  MSE: 5.471601782843344e-07\n",
      " RMSE: 0.0007397027634694455\n",
      "Score: 90.475%\n"
     ]
    }
   ],
   "source": [
    "mse_grid = mean_squared_error(y_test, result_grid)\n",
    "rmse_grid = (np.sqrt(mse_grid))\n",
    "score_grid = rf_best.score(X_test, y_test)\n",
    "print('Resultados do erro médio e score (acurácia do modelo) para o dataset de treino:\\n  MSE: {}'.format(mse_grid) \n",
    "      + '\\n RMSE: {}'.format(rmse_grid) \n",
    "      + '\\nScore: {:2.3f}'.format(score_grid * 100) + '%')"
   ]
  },
  {
   "cell_type": "markdown",
   "metadata": {},
   "source": [
    "##### Comparando os scores"
   ]
  },
  {
   "cell_type": "code",
   "execution_count": 29,
   "metadata": {},
   "outputs": [
    {
     "data": {
      "image/png": "[encoded data removed]",
      "text/plain": [
       "<Figure size 864x576 with 1 Axes>"
      ]
     },
     "metadata": {},
     "output_type": "display_data"
    }
   ],
   "source": [
    "scores = [score_lr, score_tree, score_rf, score_grid]\n",
    "labels = ['LinearRegression', 'DecisionTree', 'RandomForest', 'GridSearch']\n",
    "plt.figure(figsize=(12,8))\n",
    "plt.bar(labels, scores)\n",
    "\n",
    "plt.show()"
   ]
  }
 ],
 "metadata": {
  "kernelspec": {
   "display_name": "Python 3",
   "language": "python",
   "name": "python3"
  },
  "language_info": {
   "codemirror_mode": {
    "name": "ipython",
    "version": 3
   },
   "file_extension": ".py",
   "mimetype": "text/x-python",
   "name": "python",
   "nbconvert_exporter": "python",
   "pygments_lexer": "ipython3",
   "version": "3.6.8"
  }
 },
 "nbformat": 4,
 "nbformat_minor": 2
}
