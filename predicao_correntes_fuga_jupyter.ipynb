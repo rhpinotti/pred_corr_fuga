{
 "cells": [
  {
   "cell_type": "markdown",
   "metadata": {},
   "source": [
    "## Modelo para Predição de Correntes de Fuga em Isoladores de Distribuição\n",
    "#### Rafael Henrique Pinotti "
   ]
  },
  {
   "cell_type": "markdown",
   "metadata": {},
   "source": [
    "### Problema\n",
    "\n",
    "A qualidade no fornecimento de energia elétrica é uma preocupação constante das concessionárias, e um dos grandes problemas são falhas na transmissão e distribuição desta energia às unidades consumidoras.\n",
    "\n",
    "Por estarem, normalmente, expostas às condições ambientais, as linhas de distribuição e transmissão de energia sofrem ação de agentes atmosféricos a todo o momento.\n",
    "\n",
    "Um dos mais importantes equipamentos presente nas linhas são os isoladores elétricos, que têm a função de limitar a passagem de corrente elétrica permitindo a operação de forma segura de dispositivos e sistemas elétricos.\n",
    "\n",
    "As falhas em isoladores elétricos são responsáveis por muitos desligamentos (não programados) na rede elétrica, e o monitoramento da saúde destes equipamentos permite uma manutenção preventiva mais eficiente.\n",
    "\n",
    "Os dados coletados são provenientes da Dissertação de Mestrado de Milton Augusto Pinotti, defendida na Universidade Regional de Blumenau (Furb).\n",
    "\n",
    "Pretende-se com esta análise encontrar um modelo para predição da corrente de fuga em isoladores elétricos, permitindo uma ação preventiva mais eficiente para este tipo de equipamento em sistemas de transmissão e distribuição de energia elétrica.\n",
    "\n",
    "Os dados analisados foram coletados em uma EMSI (Estação de Monitoramento de Sistemas Isolantes) instalada em subestação elétrica da Celesc (Centrais Elétricas de Santa Catarina) na Praia Brava em Itajaí/SC.\n",
    "\n",
    "Os dados foram coletados diariamente durante o mês de Fevereiro de 2010, totalizando 40.320 registros em cada um dos 40 sistemas isolantes, realizando a medição das correntes de fuga e das condições atmosféricas no período.\n",
    "\n",
    "Neste artigo trabalharemos com apenas um dos isoladores."
   ]
  },
  {
   "cell_type": "markdown",
   "metadata": {},
   "source": [
    "### Criação do Modelo"
   ]
  },
  {
   "cell_type": "markdown",
   "metadata": {},
   "source": [
    "#### Importação das Bibliotecas e Configurações Globais"
   ]
  },
  {
   "cell_type": "code",
   "execution_count": 114,
   "metadata": {
    "ExecuteTime": {
     "end_time": "2020-05-09T16:15:20.723202Z",
     "start_time": "2020-05-09T16:15:20.707660Z"
    }
   },
   "outputs": [],
   "source": [
    "import pandas as pd\n",
    "import numpy as np\n",
    "import matplotlib.pyplot as plt\n",
    "import seaborn as sns\n",
    "from sklearn.model_selection import train_test_split\n",
    "from sklearn.linear_model import LinearRegression\n",
    "from sklearn.metrics import mean_squared_error\n",
    "from sklearn.tree import DecisionTreeRegressor\n",
    "from sklearn.ensemble import RandomForestRegressor\n",
    "from sklearn.model_selection import GridSearchCV\n",
    "from sklearn.metrics import accuracy_score\n",
    "from sklearn.preprocessing import StandardScaler\n",
    "from IPython.display import display, HTML\n",
    "%matplotlib inline\n",
    "import warnings\n",
    "warnings.filterwarnings('ignore')"
   ]
  },
  {
   "cell_type": "markdown",
   "metadata": {},
   "source": [
    "#### Aquisição dos dados"
   ]
  },
  {
   "cell_type": "code",
   "execution_count": 115,
   "metadata": {
    "ExecuteTime": {
     "end_time": "2020-05-09T16:29:29.407997Z",
     "start_time": "2020-05-09T16:29:29.302001Z"
    }
   },
   "outputs": [],
   "source": [
    "# Importar dados de arquivo csv, onde o separador de campos é '.' e o separador de casas decimais é ','\n",
    "df = pd.read_csv('dados/dados_isolador40.csv', sep=';', decimal=',')"
   ]
  },
  {
   "cell_type": "markdown",
   "metadata": {},
   "source": [
    "#### Análise exploratória dos dados"
   ]
  },
  {
   "cell_type": "code",
   "execution_count": 121,
   "metadata": {
    "ExecuteTime": {
     "end_time": "2020-05-09T14:11:14.155336Z",
     "start_time": "2020-05-09T14:11:14.114080Z"
    }
   },
   "outputs": [
    {
     "data": {
      "text/html": [
       "<div>\n",
       "<style scoped>\n",
       "    .dataframe tbody tr th:only-of-type {\n",
       "        vertical-align: middle;\n",
       "    }\n",
       "\n",
       "    .dataframe tbody tr th {\n",
       "        vertical-align: top;\n",
       "    }\n",
       "\n",
       "    .dataframe thead th {\n",
       "        text-align: right;\n",
       "    }\n",
       "</style>\n",
       "<table border=\"1\" class=\"dataframe\">\n",
       "  <thead>\n",
       "    <tr style=\"text-align: right;\">\n",
       "      <th></th>\n",
       "      <th>umidade</th>\n",
       "      <th>temperatura</th>\n",
       "      <th>pressao</th>\n",
       "      <th>vento_ang</th>\n",
       "      <th>vent_veloc</th>\n",
       "      <th>chuva</th>\n",
       "      <th>corrente_fuga</th>\n",
       "    </tr>\n",
       "  </thead>\n",
       "  <tbody>\n",
       "    <tr>\n",
       "      <th>0</th>\n",
       "      <td>70</td>\n",
       "      <td>29.6</td>\n",
       "      <td>1016</td>\n",
       "      <td>278</td>\n",
       "      <td>1.4</td>\n",
       "      <td>0</td>\n",
       "      <td>0.024992</td>\n",
       "    </tr>\n",
       "    <tr>\n",
       "      <th>1</th>\n",
       "      <td>69</td>\n",
       "      <td>29.7</td>\n",
       "      <td>1016</td>\n",
       "      <td>297</td>\n",
       "      <td>1.4</td>\n",
       "      <td>0</td>\n",
       "      <td>0.022767</td>\n",
       "    </tr>\n",
       "    <tr>\n",
       "      <th>2</th>\n",
       "      <td>70</td>\n",
       "      <td>29.8</td>\n",
       "      <td>1016</td>\n",
       "      <td>273</td>\n",
       "      <td>1.6</td>\n",
       "      <td>0</td>\n",
       "      <td>0.022607</td>\n",
       "    </tr>\n",
       "    <tr>\n",
       "      <th>3</th>\n",
       "      <td>68</td>\n",
       "      <td>29.8</td>\n",
       "      <td>1016</td>\n",
       "      <td>243</td>\n",
       "      <td>2.6</td>\n",
       "      <td>0</td>\n",
       "      <td>0.022426</td>\n",
       "    </tr>\n",
       "    <tr>\n",
       "      <th>4</th>\n",
       "      <td>68</td>\n",
       "      <td>29.7</td>\n",
       "      <td>1016</td>\n",
       "      <td>257</td>\n",
       "      <td>2.8</td>\n",
       "      <td>0</td>\n",
       "      <td>0.031797</td>\n",
       "    </tr>\n",
       "  </tbody>\n",
       "</table>\n",
       "</div>"
      ],
      "text/plain": [
       "   umidade  temperatura  pressao  vento_ang  vent_veloc  chuva  corrente_fuga\n",
       "0       70         29.6     1016        278         1.4      0       0.024992\n",
       "1       69         29.7     1016        297         1.4      0       0.022767\n",
       "2       70         29.8     1016        273         1.6      0       0.022607\n",
       "3       68         29.8     1016        243         2.6      0       0.022426\n",
       "4       68         29.7     1016        257         2.8      0       0.031797"
      ]
     },
     "execution_count": 121,
     "metadata": {},
     "output_type": "execute_result"
    }
   ],
   "source": [
    "df.head(5)"
   ]
  },
  {
   "cell_type": "code",
   "execution_count": 117,
   "metadata": {
    "ExecuteTime": {
     "end_time": "2020-05-09T14:11:14.168572Z",
     "start_time": "2020-05-09T14:11:14.161334Z"
    }
   },
   "outputs": [
    {
     "data": {
      "text/plain": [
       "(40316, 7)"
      ]
     },
     "execution_count": 117,
     "metadata": {},
     "output_type": "execute_result"
    }
   ],
   "source": [
    "# formato do dataframe (registros/colunas)\n",
    "df.shape"
   ]
  },
  {
   "cell_type": "code",
   "execution_count": 118,
   "metadata": {
    "ExecuteTime": {
     "end_time": "2020-05-09T14:11:14.183339Z",
     "start_time": "2020-05-09T14:11:14.174338Z"
    }
   },
   "outputs": [
    {
     "data": {
      "text/plain": [
       "array(['umidade', 'temperatura', 'pressao', 'vento_ang', 'vent_veloc',\n",
       "       'chuva', 'corrente_fuga'], dtype=object)"
      ]
     },
     "metadata": {},
     "output_type": "display_data"
    }
   ],
   "source": [
    "display(df.columns.values)"
   ]
  },
  {
   "cell_type": "code",
   "execution_count": 119,
   "metadata": {
    "ExecuteTime": {
     "end_time": "2020-05-09T14:11:15.130287Z",
     "start_time": "2020-05-09T14:11:14.187340Z"
    }
   },
   "outputs": [
    {
     "data": {
      "image/png": "[encoded data removed]",
      "text/plain": [
       "<Figure size 576x288 with 1 Axes>"
      ]
     },
     "metadata": {
      "needs_background": "light"
     },
     "output_type": "display_data"
    }
   ],
   "source": [
    "plt.figure(figsize=(8,4))\n",
    "plt.tight_layout()\n",
    "#sns.set_style('darkgrid')\n",
    "sns.distplot(df.corrente_fuga);"
   ]
  },
  {
   "cell_type": "markdown",
   "metadata": {},
   "source": [
    "Os dados nesta dataframe seguem uma distribuição normal."
   ]
  },
  {
   "cell_type": "code",
   "execution_count": 120,
   "metadata": {
    "ExecuteTime": {
     "end_time": "2020-05-09T14:11:15.222445Z",
     "start_time": "2020-05-09T14:11:15.133237Z"
    }
   },
   "outputs": [
    {
     "data": {
      "text/html": [
       "<div>\n",
       "<style scoped>\n",
       "    .dataframe tbody tr th:only-of-type {\n",
       "        vertical-align: middle;\n",
       "    }\n",
       "\n",
       "    .dataframe tbody tr th {\n",
       "        vertical-align: top;\n",
       "    }\n",
       "\n",
       "    .dataframe thead th {\n",
       "        text-align: right;\n",
       "    }\n",
       "</style>\n",
       "<table border=\"1\" class=\"dataframe\">\n",
       "  <thead>\n",
       "    <tr style=\"text-align: right;\">\n",
       "      <th></th>\n",
       "      <th>umidade</th>\n",
       "      <th>temperatura</th>\n",
       "      <th>pressao</th>\n",
       "      <th>vento_ang</th>\n",
       "      <th>vent_veloc</th>\n",
       "      <th>chuva</th>\n",
       "      <th>corrente_fuga</th>\n",
       "    </tr>\n",
       "  </thead>\n",
       "  <tbody>\n",
       "    <tr>\n",
       "      <th>count</th>\n",
       "      <td>40316.000000</td>\n",
       "      <td>40316.000000</td>\n",
       "      <td>40316.000000</td>\n",
       "      <td>40316.000000</td>\n",
       "      <td>40316.000000</td>\n",
       "      <td>40316.000000</td>\n",
       "      <td>40316.000000</td>\n",
       "    </tr>\n",
       "    <tr>\n",
       "      <th>mean</th>\n",
       "      <td>80.507069</td>\n",
       "      <td>27.179539</td>\n",
       "      <td>1013.934195</td>\n",
       "      <td>179.871738</td>\n",
       "      <td>1.433518</td>\n",
       "      <td>0.348274</td>\n",
       "      <td>0.036329</td>\n",
       "    </tr>\n",
       "    <tr>\n",
       "      <th>std</th>\n",
       "      <td>12.887528</td>\n",
       "      <td>3.133381</td>\n",
       "      <td>3.576448</td>\n",
       "      <td>99.311229</td>\n",
       "      <td>1.330448</td>\n",
       "      <td>2.700848</td>\n",
       "      <td>0.002511</td>\n",
       "    </tr>\n",
       "    <tr>\n",
       "      <th>min</th>\n",
       "      <td>34.000000</td>\n",
       "      <td>18.600000</td>\n",
       "      <td>1006.000000</td>\n",
       "      <td>0.000000</td>\n",
       "      <td>0.000000</td>\n",
       "      <td>0.000000</td>\n",
       "      <td>0.022426</td>\n",
       "    </tr>\n",
       "    <tr>\n",
       "      <th>25%</th>\n",
       "      <td>71.000000</td>\n",
       "      <td>25.200000</td>\n",
       "      <td>1011.000000</td>\n",
       "      <td>75.000000</td>\n",
       "      <td>0.000000</td>\n",
       "      <td>0.000000</td>\n",
       "      <td>0.035073</td>\n",
       "    </tr>\n",
       "    <tr>\n",
       "      <th>50%</th>\n",
       "      <td>85.000000</td>\n",
       "      <td>26.700000</td>\n",
       "      <td>1013.000000</td>\n",
       "      <td>210.000000</td>\n",
       "      <td>1.400000</td>\n",
       "      <td>0.000000</td>\n",
       "      <td>0.036337</td>\n",
       "    </tr>\n",
       "    <tr>\n",
       "      <th>75%</th>\n",
       "      <td>91.000000</td>\n",
       "      <td>29.200000</td>\n",
       "      <td>1017.000000</td>\n",
       "      <td>265.000000</td>\n",
       "      <td>2.400000</td>\n",
       "      <td>0.000000</td>\n",
       "      <td>0.037321</td>\n",
       "    </tr>\n",
       "    <tr>\n",
       "      <th>max</th>\n",
       "      <td>98.000000</td>\n",
       "      <td>37.400000</td>\n",
       "      <td>1022.000000</td>\n",
       "      <td>357.000000</td>\n",
       "      <td>11.900000</td>\n",
       "      <td>100.000000</td>\n",
       "      <td>0.105487</td>\n",
       "    </tr>\n",
       "  </tbody>\n",
       "</table>\n",
       "</div>"
      ],
      "text/plain": [
       "            umidade   temperatura       pressao     vento_ang    vent_veloc  \\\n",
       "count  40316.000000  40316.000000  40316.000000  40316.000000  40316.000000   \n",
       "mean      80.507069     27.179539   1013.934195    179.871738      1.433518   \n",
       "std       12.887528      3.133381      3.576448     99.311229      1.330448   \n",
       "min       34.000000     18.600000   1006.000000      0.000000      0.000000   \n",
       "25%       71.000000     25.200000   1011.000000     75.000000      0.000000   \n",
       "50%       85.000000     26.700000   1013.000000    210.000000      1.400000   \n",
       "75%       91.000000     29.200000   1017.000000    265.000000      2.400000   \n",
       "max       98.000000     37.400000   1022.000000    357.000000     11.900000   \n",
       "\n",
       "              chuva  corrente_fuga  \n",
       "count  40316.000000   40316.000000  \n",
       "mean       0.348274       0.036329  \n",
       "std        2.700848       0.002511  \n",
       "min        0.000000       0.022426  \n",
       "25%        0.000000       0.035073  \n",
       "50%        0.000000       0.036337  \n",
       "75%        0.000000       0.037321  \n",
       "max      100.000000       0.105487  "
      ]
     },
     "execution_count": 120,
     "metadata": {},
     "output_type": "execute_result"
    }
   ],
   "source": [
    "# Informações estatísticas do dataframe\n",
    "df.describe()\n",
    "# Notamos que existem atributos com valor mínimo igual a zero."
   ]
  },
  {
   "cell_type": "markdown",
   "metadata": {},
   "source": [
    "Verificando outliers no modelo"
   ]
  },
  {
   "cell_type": "code",
   "execution_count": 99,
   "metadata": {
    "ExecuteTime": {
     "end_time": "2020-05-09T16:14:04.645668Z",
     "start_time": "2020-05-09T16:14:04.627670Z"
    }
   },
   "outputs": [],
   "source": [
    "def boxplots_dataframe(df_analisado):\n",
    "    fig, ax = plt.subplots(2, 3, figsize=(14,8))\n",
    "    fig.tight_layout(pad=3.0)\n",
    "\n",
    "    ax[0,0].boxplot(df.umidade)\n",
    "    ax[0,1].boxplot(df.temperatura)\n",
    "    ax[0,2].boxplot(df.pressao)\n",
    "    ax[1,0].boxplot(df.vento_ang)\n",
    "    ax[1,1].boxplot(df.vent_veloc)\n",
    "    ax[1,2].boxplot(df.chuva)\n",
    "\n",
    "    ax[0,0].set_title('Umidade')\n",
    "    ax[0,1].set_title('Temperatura')\n",
    "    ax[0,2].set_title('Pressão')\n",
    "    ax[1,0].set_title('Ângulo do vento')\n",
    "    ax[1,1].set_title('Velocidade do vento')\n",
    "    ax[1,2].set_title('Chuva (mm)')\n",
    "\n",
    "    plt.show()"
   ]
  },
  {
   "cell_type": "code",
   "execution_count": 100,
   "metadata": {
    "ExecuteTime": {
     "end_time": "2020-05-09T16:14:14.708599Z",
     "start_time": "2020-05-09T16:14:13.543986Z"
    }
   },
   "outputs": [
    {
     "data": {
      "image/png": "[encoded data removed]",
      "text/plain": [
       "<Figure size 1008x576 with 6 Axes>"
      ]
     },
     "metadata": {
      "needs_background": "light"
     },
     "output_type": "display_data"
    }
   ],
   "source": [
    "boxplots_dataframe(df)"
   ]
  },
  {
   "cell_type": "code",
   "execution_count": 8,
   "metadata": {
    "ExecuteTime": {
     "end_time": "2020-05-09T14:11:15.250448Z",
     "start_time": "2020-05-09T14:11:15.228570Z"
    }
   },
   "outputs": [
    {
     "data": {
      "text/plain": [
       "umidade          False\n",
       "temperatura      False\n",
       "pressao          False\n",
       "vento_ang        False\n",
       "vent_veloc       False\n",
       "chuva            False\n",
       "corrente_fuga    False\n",
       "dtype: bool"
      ]
     },
     "execution_count": 8,
     "metadata": {},
     "output_type": "execute_result"
    }
   ],
   "source": [
    "# Valores missing\n",
    "df.isnull().any()"
   ]
  },
  {
   "cell_type": "code",
   "execution_count": 9,
   "metadata": {
    "ExecuteTime": {
     "end_time": "2020-05-09T14:11:15.273449Z",
     "start_time": "2020-05-09T14:11:15.255448Z"
    }
   },
   "outputs": [
    {
     "data": {
      "text/plain": [
       "umidade          0\n",
       "temperatura      0\n",
       "pressao          0\n",
       "vento_ang        0\n",
       "vent_veloc       0\n",
       "chuva            0\n",
       "corrente_fuga    0\n",
       "dtype: int64"
      ]
     },
     "execution_count": 9,
     "metadata": {},
     "output_type": "execute_result"
    }
   ],
   "source": [
    "# Registros nulos\n",
    "df.isnull().sum()"
   ]
  },
  {
   "cell_type": "code",
   "execution_count": 122,
   "metadata": {
    "ExecuteTime": {
     "end_time": "2020-05-09T14:11:15.400453Z",
     "start_time": "2020-05-09T14:11:15.277447Z"
    }
   },
   "outputs": [
    {
     "data": {
      "text/plain": [
       "umidade              0\n",
       "temperatura          0\n",
       "pressao              0\n",
       "vento_ang           92\n",
       "vent_veloc       14511\n",
       "chuva            38064\n",
       "corrente_fuga        0\n",
       "dtype: int64"
      ]
     },
     "execution_count": 122,
     "metadata": {},
     "output_type": "execute_result"
    }
   ],
   "source": [
    "# Quantidade de registros com valor zero em cada atributo.\n",
    "(df == 0).sum()"
   ]
  },
  {
   "cell_type": "code",
   "execution_count": 11,
   "metadata": {
    "ExecuteTime": {
     "end_time": "2020-05-09T14:11:15.600448Z",
     "start_time": "2020-05-09T14:11:15.402447Z"
    }
   },
   "outputs": [
    {
     "data": {
      "text/html": [
       "<style  type=\"text/css\" >\n",
       "    #T_f1fe1bba_91fe_11ea_8048_9439e5f04e58row0_col0 {\n",
       "            background-color:  #b40426;\n",
       "            color:  #f1f1f1;\n",
       "        }    #T_f1fe1bba_91fe_11ea_8048_9439e5f04e58row0_col1 {\n",
       "            background-color:  #465ecf;\n",
       "            color:  #f1f1f1;\n",
       "        }    #T_f1fe1bba_91fe_11ea_8048_9439e5f04e58row0_col2 {\n",
       "            background-color:  #7b9ff9;\n",
       "            color:  #000000;\n",
       "        }    #T_f1fe1bba_91fe_11ea_8048_9439e5f04e58row0_col3 {\n",
       "            background-color:  #e9d5cb;\n",
       "            color:  #000000;\n",
       "        }    #T_f1fe1bba_91fe_11ea_8048_9439e5f04e58row0_col4 {\n",
       "            background-color:  #3b4cc0;\n",
       "            color:  #f1f1f1;\n",
       "        }    #T_f1fe1bba_91fe_11ea_8048_9439e5f04e58row0_col5 {\n",
       "            background-color:  #c3d5f4;\n",
       "            color:  #000000;\n",
       "        }    #T_f1fe1bba_91fe_11ea_8048_9439e5f04e58row0_col6 {\n",
       "            background-color:  #ee8468;\n",
       "            color:  #000000;\n",
       "        }    #T_f1fe1bba_91fe_11ea_8048_9439e5f04e58row1_col0 {\n",
       "            background-color:  #3b4cc0;\n",
       "            color:  #f1f1f1;\n",
       "        }    #T_f1fe1bba_91fe_11ea_8048_9439e5f04e58row1_col1 {\n",
       "            background-color:  #b40426;\n",
       "            color:  #f1f1f1;\n",
       "        }    #T_f1fe1bba_91fe_11ea_8048_9439e5f04e58row1_col2 {\n",
       "            background-color:  #4358cb;\n",
       "            color:  #f1f1f1;\n",
       "        }    #T_f1fe1bba_91fe_11ea_8048_9439e5f04e58row1_col3 {\n",
       "            background-color:  #3b4cc0;\n",
       "            color:  #f1f1f1;\n",
       "        }    #T_f1fe1bba_91fe_11ea_8048_9439e5f04e58row1_col4 {\n",
       "            background-color:  #f4c5ad;\n",
       "            color:  #000000;\n",
       "        }    #T_f1fe1bba_91fe_11ea_8048_9439e5f04e58row1_col5 {\n",
       "            background-color:  #85a8fc;\n",
       "            color:  #000000;\n",
       "        }    #T_f1fe1bba_91fe_11ea_8048_9439e5f04e58row1_col6 {\n",
       "            background-color:  #4e68d8;\n",
       "            color:  #000000;\n",
       "        }    #T_f1fe1bba_91fe_11ea_8048_9439e5f04e58row2_col0 {\n",
       "            background-color:  #6687ed;\n",
       "            color:  #000000;\n",
       "        }    #T_f1fe1bba_91fe_11ea_8048_9439e5f04e58row2_col1 {\n",
       "            background-color:  #3b4cc0;\n",
       "            color:  #f1f1f1;\n",
       "        }    #T_f1fe1bba_91fe_11ea_8048_9439e5f04e58row2_col2 {\n",
       "            background-color:  #b40426;\n",
       "            color:  #f1f1f1;\n",
       "        }    #T_f1fe1bba_91fe_11ea_8048_9439e5f04e58row2_col3 {\n",
       "            background-color:  #96b7ff;\n",
       "            color:  #000000;\n",
       "        }    #T_f1fe1bba_91fe_11ea_8048_9439e5f04e58row2_col4 {\n",
       "            background-color:  #8db0fe;\n",
       "            color:  #000000;\n",
       "        }    #T_f1fe1bba_91fe_11ea_8048_9439e5f04e58row2_col5 {\n",
       "            background-color:  #a5c3fe;\n",
       "            color:  #000000;\n",
       "        }    #T_f1fe1bba_91fe_11ea_8048_9439e5f04e58row2_col6 {\n",
       "            background-color:  #89acfd;\n",
       "            color:  #000000;\n",
       "        }    #T_f1fe1bba_91fe_11ea_8048_9439e5f04e58row3_col0 {\n",
       "            background-color:  #e4d9d2;\n",
       "            color:  #000000;\n",
       "        }    #T_f1fe1bba_91fe_11ea_8048_9439e5f04e58row3_col1 {\n",
       "            background-color:  #3b4cc0;\n",
       "            color:  #f1f1f1;\n",
       "        }    #T_f1fe1bba_91fe_11ea_8048_9439e5f04e58row3_col2 {\n",
       "            background-color:  #9ebeff;\n",
       "            color:  #000000;\n",
       "        }    #T_f1fe1bba_91fe_11ea_8048_9439e5f04e58row3_col3 {\n",
       "            background-color:  #b40426;\n",
       "            color:  #f1f1f1;\n",
       "        }    #T_f1fe1bba_91fe_11ea_8048_9439e5f04e58row3_col4 {\n",
       "            background-color:  #4f69d9;\n",
       "            color:  #000000;\n",
       "        }    #T_f1fe1bba_91fe_11ea_8048_9439e5f04e58row3_col5 {\n",
       "            background-color:  #aac7fd;\n",
       "            color:  #000000;\n",
       "        }    #T_f1fe1bba_91fe_11ea_8048_9439e5f04e58row3_col6 {\n",
       "            background-color:  #d3dbe7;\n",
       "            color:  #000000;\n",
       "        }    #T_f1fe1bba_91fe_11ea_8048_9439e5f04e58row4_col0 {\n",
       "            background-color:  #3b4cc0;\n",
       "            color:  #f1f1f1;\n",
       "        }    #T_f1fe1bba_91fe_11ea_8048_9439e5f04e58row4_col1 {\n",
       "            background-color:  #f5c0a7;\n",
       "            color:  #000000;\n",
       "        }    #T_f1fe1bba_91fe_11ea_8048_9439e5f04e58row4_col2 {\n",
       "            background-color:  #9fbfff;\n",
       "            color:  #000000;\n",
       "        }    #T_f1fe1bba_91fe_11ea_8048_9439e5f04e58row4_col3 {\n",
       "            background-color:  #5b7ae5;\n",
       "            color:  #000000;\n",
       "        }    #T_f1fe1bba_91fe_11ea_8048_9439e5f04e58row4_col4 {\n",
       "            background-color:  #b40426;\n",
       "            color:  #f1f1f1;\n",
       "        }    #T_f1fe1bba_91fe_11ea_8048_9439e5f04e58row4_col5 {\n",
       "            background-color:  #aac7fd;\n",
       "            color:  #000000;\n",
       "        }    #T_f1fe1bba_91fe_11ea_8048_9439e5f04e58row4_col6 {\n",
       "            background-color:  #6384eb;\n",
       "            color:  #000000;\n",
       "        }    #T_f1fe1bba_91fe_11ea_8048_9439e5f04e58row5_col0 {\n",
       "            background-color:  #7b9ff9;\n",
       "            color:  #000000;\n",
       "        }    #T_f1fe1bba_91fe_11ea_8048_9439e5f04e58row5_col1 {\n",
       "            background-color:  #3b4cc0;\n",
       "            color:  #f1f1f1;\n",
       "        }    #T_f1fe1bba_91fe_11ea_8048_9439e5f04e58row5_col2 {\n",
       "            background-color:  #6687ed;\n",
       "            color:  #000000;\n",
       "        }    #T_f1fe1bba_91fe_11ea_8048_9439e5f04e58row5_col3 {\n",
       "            background-color:  #6687ed;\n",
       "            color:  #000000;\n",
       "        }    #T_f1fe1bba_91fe_11ea_8048_9439e5f04e58row5_col4 {\n",
       "            background-color:  #5875e1;\n",
       "            color:  #000000;\n",
       "        }    #T_f1fe1bba_91fe_11ea_8048_9439e5f04e58row5_col5 {\n",
       "            background-color:  #b40426;\n",
       "            color:  #f1f1f1;\n",
       "        }    #T_f1fe1bba_91fe_11ea_8048_9439e5f04e58row5_col6 {\n",
       "            background-color:  #b5cdfa;\n",
       "            color:  #000000;\n",
       "        }    #T_f1fe1bba_91fe_11ea_8048_9439e5f04e58row6_col0 {\n",
       "            background-color:  #f18f71;\n",
       "            color:  #000000;\n",
       "        }    #T_f1fe1bba_91fe_11ea_8048_9439e5f04e58row6_col1 {\n",
       "            background-color:  #3b4cc0;\n",
       "            color:  #f1f1f1;\n",
       "        }    #T_f1fe1bba_91fe_11ea_8048_9439e5f04e58row6_col2 {\n",
       "            background-color:  #80a3fa;\n",
       "            color:  #000000;\n",
       "        }    #T_f1fe1bba_91fe_11ea_8048_9439e5f04e58row6_col3 {\n",
       "            background-color:  #c9d7f0;\n",
       "            color:  #000000;\n",
       "        }    #T_f1fe1bba_91fe_11ea_8048_9439e5f04e58row6_col4 {\n",
       "            background-color:  #4358cb;\n",
       "            color:  #f1f1f1;\n",
       "        }    #T_f1fe1bba_91fe_11ea_8048_9439e5f04e58row6_col5 {\n",
       "            background-color:  #d7dce3;\n",
       "            color:  #000000;\n",
       "        }    #T_f1fe1bba_91fe_11ea_8048_9439e5f04e58row6_col6 {\n",
       "            background-color:  #b40426;\n",
       "            color:  #f1f1f1;\n",
       "        }</style><table id=\"T_f1fe1bba_91fe_11ea_8048_9439e5f04e58\" ><thead>    <tr>        <th class=\"blank level0\" ></th>        <th class=\"col_heading level0 col0\" >umidade</th>        <th class=\"col_heading level0 col1\" >temperatura</th>        <th class=\"col_heading level0 col2\" >pressao</th>        <th class=\"col_heading level0 col3\" >vento_ang</th>        <th class=\"col_heading level0 col4\" >vent_veloc</th>        <th class=\"col_heading level0 col5\" >chuva</th>        <th class=\"col_heading level0 col6\" >corrente_fuga</th>    </tr></thead><tbody>\n",
       "                <tr>\n",
       "                        <th id=\"T_f1fe1bba_91fe_11ea_8048_9439e5f04e58level0_row0\" class=\"row_heading level0 row0\" >umidade</th>\n",
       "                        <td id=\"T_f1fe1bba_91fe_11ea_8048_9439e5f04e58row0_col0\" class=\"data row0 col0\" >1.0</td>\n",
       "                        <td id=\"T_f1fe1bba_91fe_11ea_8048_9439e5f04e58row0_col1\" class=\"data row0 col1\" >-0.44157</td>\n",
       "                        <td id=\"T_f1fe1bba_91fe_11ea_8048_9439e5f04e58row0_col2\" class=\"data row0 col2\" >-0.20368</td>\n",
       "                        <td id=\"T_f1fe1bba_91fe_11ea_8048_9439e5f04e58row0_col3\" class=\"data row0 col3\" >0.32259</td>\n",
       "                        <td id=\"T_f1fe1bba_91fe_11ea_8048_9439e5f04e58row0_col4\" class=\"data row0 col4\" >-0.50396</td>\n",
       "                        <td id=\"T_f1fe1bba_91fe_11ea_8048_9439e5f04e58row0_col5\" class=\"data row0 col5\" >0.11214</td>\n",
       "                        <td id=\"T_f1fe1bba_91fe_11ea_8048_9439e5f04e58row0_col6\" class=\"data row0 col6\" >0.69658</td>\n",
       "            </tr>\n",
       "            <tr>\n",
       "                        <th id=\"T_f1fe1bba_91fe_11ea_8048_9439e5f04e58level0_row1\" class=\"row_heading level0 row1\" >temperatura</th>\n",
       "                        <td id=\"T_f1fe1bba_91fe_11ea_8048_9439e5f04e58row1_col0\" class=\"data row1 col0\" >-0.44157</td>\n",
       "                        <td id=\"T_f1fe1bba_91fe_11ea_8048_9439e5f04e58row1_col1\" class=\"data row1 col1\" >1.0</td>\n",
       "                        <td id=\"T_f1fe1bba_91fe_11ea_8048_9439e5f04e58row1_col2\" class=\"data row1 col2\" >-0.39874</td>\n",
       "                        <td id=\"T_f1fe1bba_91fe_11ea_8048_9439e5f04e58row1_col3\" class=\"data row1 col3\" >-0.43925</td>\n",
       "                        <td id=\"T_f1fe1bba_91fe_11ea_8048_9439e5f04e58row1_col4\" class=\"data row1 col4\" >0.45762</td>\n",
       "                        <td id=\"T_f1fe1bba_91fe_11ea_8048_9439e5f04e58row1_col5\" class=\"data row1 col5\" >-0.11037</td>\n",
       "                        <td id=\"T_f1fe1bba_91fe_11ea_8048_9439e5f04e58row1_col6\" class=\"data row1 col6\" >-0.34919</td>\n",
       "            </tr>\n",
       "            <tr>\n",
       "                        <th id=\"T_f1fe1bba_91fe_11ea_8048_9439e5f04e58level0_row2\" class=\"row_heading level0 row2\" >pressao</th>\n",
       "                        <td id=\"T_f1fe1bba_91fe_11ea_8048_9439e5f04e58row2_col0\" class=\"data row2 col0\" >-0.20368</td>\n",
       "                        <td id=\"T_f1fe1bba_91fe_11ea_8048_9439e5f04e58row2_col1\" class=\"data row2 col1\" >-0.39874</td>\n",
       "                        <td id=\"T_f1fe1bba_91fe_11ea_8048_9439e5f04e58row2_col2\" class=\"data row2 col2\" >1.0</td>\n",
       "                        <td id=\"T_f1fe1bba_91fe_11ea_8048_9439e5f04e58row2_col3\" class=\"data row2 col3\" >-0.011539</td>\n",
       "                        <td id=\"T_f1fe1bba_91fe_11ea_8048_9439e5f04e58row2_col4\" class=\"data row2 col4\" >-0.045943</td>\n",
       "                        <td id=\"T_f1fe1bba_91fe_11ea_8048_9439e5f04e58row2_col5\" class=\"data row2 col5\" >0.044076</td>\n",
       "                        <td id=\"T_f1fe1bba_91fe_11ea_8048_9439e5f04e58row2_col6\" class=\"data row2 col6\" >-0.064254</td>\n",
       "            </tr>\n",
       "            <tr>\n",
       "                        <th id=\"T_f1fe1bba_91fe_11ea_8048_9439e5f04e58level0_row3\" class=\"row_heading level0 row3\" >vento_ang</th>\n",
       "                        <td id=\"T_f1fe1bba_91fe_11ea_8048_9439e5f04e58row3_col0\" class=\"data row3 col0\" >0.32259</td>\n",
       "                        <td id=\"T_f1fe1bba_91fe_11ea_8048_9439e5f04e58row3_col1\" class=\"data row3 col1\" >-0.43925</td>\n",
       "                        <td id=\"T_f1fe1bba_91fe_11ea_8048_9439e5f04e58row3_col2\" class=\"data row3 col2\" >-0.011539</td>\n",
       "                        <td id=\"T_f1fe1bba_91fe_11ea_8048_9439e5f04e58row3_col3\" class=\"data row3 col3\" >1.0</td>\n",
       "                        <td id=\"T_f1fe1bba_91fe_11ea_8048_9439e5f04e58row3_col4\" class=\"data row3 col4\" >-0.34307</td>\n",
       "                        <td id=\"T_f1fe1bba_91fe_11ea_8048_9439e5f04e58row3_col5\" class=\"data row3 col5\" >0.0424</td>\n",
       "                        <td id=\"T_f1fe1bba_91fe_11ea_8048_9439e5f04e58row3_col6\" class=\"data row3 col6\" >0.22667</td>\n",
       "            </tr>\n",
       "            <tr>\n",
       "                        <th id=\"T_f1fe1bba_91fe_11ea_8048_9439e5f04e58level0_row4\" class=\"row_heading level0 row4\" >vent_veloc</th>\n",
       "                        <td id=\"T_f1fe1bba_91fe_11ea_8048_9439e5f04e58row4_col0\" class=\"data row4 col0\" >-0.50396</td>\n",
       "                        <td id=\"T_f1fe1bba_91fe_11ea_8048_9439e5f04e58row4_col1\" class=\"data row4 col1\" >0.45762</td>\n",
       "                        <td id=\"T_f1fe1bba_91fe_11ea_8048_9439e5f04e58row4_col2\" class=\"data row4 col2\" >-0.045943</td>\n",
       "                        <td id=\"T_f1fe1bba_91fe_11ea_8048_9439e5f04e58row4_col3\" class=\"data row4 col3\" >-0.34307</td>\n",
       "                        <td id=\"T_f1fe1bba_91fe_11ea_8048_9439e5f04e58row4_col4\" class=\"data row4 col4\" >1.0</td>\n",
       "                        <td id=\"T_f1fe1bba_91fe_11ea_8048_9439e5f04e58row4_col5\" class=\"data row4 col5\" >-0.0043842</td>\n",
       "                        <td id=\"T_f1fe1bba_91fe_11ea_8048_9439e5f04e58row4_col6\" class=\"data row4 col6\" >-0.3078</td>\n",
       "            </tr>\n",
       "            <tr>\n",
       "                        <th id=\"T_f1fe1bba_91fe_11ea_8048_9439e5f04e58level0_row5\" class=\"row_heading level0 row5\" >chuva</th>\n",
       "                        <td id=\"T_f1fe1bba_91fe_11ea_8048_9439e5f04e58row5_col0\" class=\"data row5 col0\" >0.11214</td>\n",
       "                        <td id=\"T_f1fe1bba_91fe_11ea_8048_9439e5f04e58row5_col1\" class=\"data row5 col1\" >-0.11037</td>\n",
       "                        <td id=\"T_f1fe1bba_91fe_11ea_8048_9439e5f04e58row5_col2\" class=\"data row5 col2\" >0.044076</td>\n",
       "                        <td id=\"T_f1fe1bba_91fe_11ea_8048_9439e5f04e58row5_col3\" class=\"data row5 col3\" >0.0424</td>\n",
       "                        <td id=\"T_f1fe1bba_91fe_11ea_8048_9439e5f04e58row5_col4\" class=\"data row5 col4\" >-0.0043842</td>\n",
       "                        <td id=\"T_f1fe1bba_91fe_11ea_8048_9439e5f04e58row5_col5\" class=\"data row5 col5\" >1.0</td>\n",
       "                        <td id=\"T_f1fe1bba_91fe_11ea_8048_9439e5f04e58row5_col6\" class=\"data row5 col6\" >0.29679</td>\n",
       "            </tr>\n",
       "            <tr>\n",
       "                        <th id=\"T_f1fe1bba_91fe_11ea_8048_9439e5f04e58level0_row6\" class=\"row_heading level0 row6\" >corrente_fuga</th>\n",
       "                        <td id=\"T_f1fe1bba_91fe_11ea_8048_9439e5f04e58row6_col0\" class=\"data row6 col0\" >0.69658</td>\n",
       "                        <td id=\"T_f1fe1bba_91fe_11ea_8048_9439e5f04e58row6_col1\" class=\"data row6 col1\" >-0.34919</td>\n",
       "                        <td id=\"T_f1fe1bba_91fe_11ea_8048_9439e5f04e58row6_col2\" class=\"data row6 col2\" >-0.064254</td>\n",
       "                        <td id=\"T_f1fe1bba_91fe_11ea_8048_9439e5f04e58row6_col3\" class=\"data row6 col3\" >0.22667</td>\n",
       "                        <td id=\"T_f1fe1bba_91fe_11ea_8048_9439e5f04e58row6_col4\" class=\"data row6 col4\" >-0.3078</td>\n",
       "                        <td id=\"T_f1fe1bba_91fe_11ea_8048_9439e5f04e58row6_col5\" class=\"data row6 col5\" >0.29679</td>\n",
       "                        <td id=\"T_f1fe1bba_91fe_11ea_8048_9439e5f04e58row6_col6\" class=\"data row6 col6\" >1.0</td>\n",
       "            </tr>\n",
       "    </tbody></table>"
      ],
      "text/plain": [
       "<pandas.io.formats.style.Styler at 0x2bb80b64208>"
      ]
     },
     "execution_count": 11,
     "metadata": {},
     "output_type": "execute_result"
    }
   ],
   "source": [
    "# Plotando a correlação entre os atributos\n",
    "df.corr().style.format(\"{:.5}\").background_gradient(cmap=plt.get_cmap('coolwarm'), axis=1)"
   ]
  },
  {
   "cell_type": "code",
   "execution_count": 12,
   "metadata": {
    "ExecuteTime": {
     "end_time": "2020-05-09T14:11:15.630029Z",
     "start_time": "2020-05-09T14:11:15.604446Z"
    }
   },
   "outputs": [
    {
     "data": {
      "text/plain": [
       "umidade          0.696576\n",
       "temperatura     -0.349192\n",
       "pressao         -0.064254\n",
       "vento_ang        0.226674\n",
       "vent_veloc      -0.307804\n",
       "chuva            0.296792\n",
       "corrente_fuga    1.000000\n",
       "Name: corrente_fuga, dtype: float64"
      ]
     },
     "execution_count": 12,
     "metadata": {},
     "output_type": "execute_result"
    }
   ],
   "source": [
    "# Correlação da corrente de fuga com os demais atributos.\n",
    "df.corr()['corrente_fuga']"
   ]
  },
  {
   "cell_type": "markdown",
   "metadata": {},
   "source": [
    "#### Preparação dos dados para o modelo"
   ]
  },
  {
   "cell_type": "markdown",
   "metadata": {},
   "source": [
    "Apesar do atributo chuva possuir muitos registros com valor zero, e da baixa correlação da pressão, os dois atributos serão mantidos para a criação do modelo base."
   ]
  },
  {
   "cell_type": "code",
   "execution_count": 13,
   "metadata": {
    "ExecuteTime": {
     "end_time": "2020-05-09T14:11:15.638033Z",
     "start_time": "2020-05-09T14:11:15.632033Z"
    }
   },
   "outputs": [],
   "source": [
    "colunas = df.columns.drop(['corrente_fuga'])"
   ]
  },
  {
   "cell_type": "markdown",
   "metadata": {},
   "source": [
    "#### Criando os modelos de machine learning"
   ]
  },
  {
   "cell_type": "markdown",
   "metadata": {},
   "source": [
    "##### 01. Regressão Linear"
   ]
  },
  {
   "cell_type": "markdown",
   "metadata": {},
   "source": [
    "**Função para cálculo do *score* na *Regressão Linear***"
   ]
  },
  {
   "cell_type": "code",
   "execution_count": 14,
   "metadata": {
    "ExecuteTime": {
     "end_time": "2020-05-09T14:11:15.656032Z",
     "start_time": "2020-05-09T14:11:15.642033Z"
    }
   },
   "outputs": [],
   "source": [
    "def calcula_regressao(columns):\n",
    "    X_train, X_test, y_train, y_test = train_test_split(df[columns], df['corrente_fuga'], test_size=0.20, random_state=42)\n",
    "    lr = LinearRegression(normalize = False, fit_intercept=True)\n",
    "    # Treinando o modelo\n",
    "    model_lr = lr.fit(X_train, y_train)\n",
    "    result_lr = model_lr.predict(X_test)\n",
    "    # MSE: média do erro quadrado. Quanto menor o valor, mais acertivo é o modelo.\n",
    "    mse_lr = mean_squared_error(y_test, result_lr)\n",
    "    # RMSE: raiz quadrada do MSE (facilita a visualização do valor).\n",
    "    rmse_lr = (np.sqrt(mse_lr))\n",
    "    # A métrica score varia entre 0 e 1, e indica percentualmente o quanto o modelo consegue explicar os valores observados.\n",
    "    # Quanto maior o valor mais explicativo é o modelo.\n",
    "    score_lr = model_lr.score(X_test, y_test)\n",
    "    print('Resultados do erro médio e score (acurácia do modelo) para o dataset de teste:\\n  MSE: {}'.format(mse_lr) \n",
    "          + '\\n RMSE: {}'.format(rmse_lr) \n",
    "          + '\\nScore: {:2.4f}'.format(score_lr * 100) + '%')\n",
    "    return score_lr;"
   ]
  },
  {
   "cell_type": "markdown",
   "metadata": {},
   "source": [
    "**Calculando o erro e computando o *score* para os dados de teste, removendo apenas a coluna *target*.**"
   ]
  },
  {
   "cell_type": "code",
   "execution_count": 15,
   "metadata": {
    "ExecuteTime": {
     "end_time": "2020-05-09T14:11:15.671033Z",
     "start_time": "2020-05-09T14:11:15.660031Z"
    }
   },
   "outputs": [
    {
     "data": {
      "text/plain": [
       "Index(['umidade', 'temperatura', 'pressao', 'vento_ang', 'vent_veloc',\n",
       "       'chuva'],\n",
       "      dtype='object')"
      ]
     },
     "execution_count": 15,
     "metadata": {},
     "output_type": "execute_result"
    }
   ],
   "source": [
    "# Excluindo a variável target 'corrente_fuga'.\n",
    "cols = df.columns.drop(['corrente_fuga'])\n",
    "cols"
   ]
  },
  {
   "cell_type": "code",
   "execution_count": 16,
   "metadata": {
    "ExecuteTime": {
     "end_time": "2020-05-09T14:11:15.737030Z",
     "start_time": "2020-05-09T14:11:15.675032Z"
    }
   },
   "outputs": [
    {
     "name": "stdout",
     "output_type": "stream",
     "text": [
      "Resultados do erro médio e score (acurácia do modelo) para o dataset de teste:\n",
      "  MSE: 2.403077793817954e-06\n",
      " RMSE: 0.001550186373897653\n",
      "Score: 58.1681%\n"
     ]
    }
   ],
   "source": [
    "score_cols = calcula_regressao(cols)"
   ]
  },
  {
   "cell_type": "markdown",
   "metadata": {},
   "source": [
    "###### Manipulando colunas para comparar os scores"
   ]
  },
  {
   "cell_type": "markdown",
   "metadata": {},
   "source": [
    "**Removendo colunas com correlação menor que 0.50.**"
   ]
  },
  {
   "cell_type": "code",
   "execution_count": 17,
   "metadata": {
    "ExecuteTime": {
     "end_time": "2020-05-09T14:11:15.759039Z",
     "start_time": "2020-05-09T14:11:15.740031Z"
    }
   },
   "outputs": [
    {
     "data": {
      "text/plain": [
       "Index(['umidade'], dtype='object')"
      ]
     },
     "execution_count": 17,
     "metadata": {},
     "output_type": "execute_result"
    }
   ],
   "source": [
    "cols_maior_05 = df.columns.drop(['temperatura','pressao','vento_ang','vent_veloc','chuva','corrente_fuga'])\n",
    "cols_maior_05"
   ]
  },
  {
   "cell_type": "code",
   "execution_count": 18,
   "metadata": {
    "ExecuteTime": {
     "end_time": "2020-05-09T14:11:15.791029Z",
     "start_time": "2020-05-09T14:11:15.763032Z"
    }
   },
   "outputs": [
    {
     "name": "stdout",
     "output_type": "stream",
     "text": [
      "Resultados do erro médio e score (acurácia do modelo) para o dataset de teste:\n",
      "  MSE: 2.680512527667278e-06\n",
      " RMSE: 0.0016372270849418775\n",
      "Score: 53.3386%\n"
     ]
    }
   ],
   "source": [
    "score_cols_maior_05 = calcula_regressao(cols_maior_05)"
   ]
  },
  {
   "cell_type": "markdown",
   "metadata": {
    "ExecuteTime": {
     "end_time": "2020-05-09T11:42:05.575288Z",
     "start_time": "2020-05-09T11:42:05.567294Z"
    }
   },
   "source": [
    "**Removendo colunas com correlação menor que 0.30.**"
   ]
  },
  {
   "cell_type": "code",
   "execution_count": 19,
   "metadata": {
    "ExecuteTime": {
     "end_time": "2020-05-09T14:11:15.807030Z",
     "start_time": "2020-05-09T14:11:15.794030Z"
    }
   },
   "outputs": [
    {
     "data": {
      "text/plain": [
       "Index(['umidade', 'temperatura', 'vent_veloc'], dtype='object')"
      ]
     },
     "execution_count": 19,
     "metadata": {},
     "output_type": "execute_result"
    }
   ],
   "source": [
    "cols_maior_03 = df.columns.drop(['pressao', 'vento_ang','chuva','corrente_fuga'])\n",
    "cols_maior_03"
   ]
  },
  {
   "cell_type": "code",
   "execution_count": 20,
   "metadata": {
    "ExecuteTime": {
     "end_time": "2020-05-09T14:11:15.861031Z",
     "start_time": "2020-05-09T14:11:15.812031Z"
    }
   },
   "outputs": [
    {
     "name": "stdout",
     "output_type": "stream",
     "text": [
      "Resultados do erro médio e score (acurácia do modelo) para o dataset de teste:\n",
      "  MSE: 2.6320315136214336e-06\n",
      " RMSE: 0.0016223536955982914\n",
      "Score: 54.1825%\n"
     ]
    }
   ],
   "source": [
    "score_cols_maior_03 = calcula_regressao(cols_maior_03)"
   ]
  },
  {
   "cell_type": "markdown",
   "metadata": {},
   "source": [
    "**Removendo colunas com correlação menor que 0.10.**"
   ]
  },
  {
   "cell_type": "code",
   "execution_count": 21,
   "metadata": {
    "ExecuteTime": {
     "end_time": "2020-05-09T14:11:15.875030Z",
     "start_time": "2020-05-09T14:11:15.864031Z"
    }
   },
   "outputs": [
    {
     "data": {
      "text/plain": [
       "Index(['umidade', 'temperatura', 'vento_ang', 'vent_veloc', 'chuva'], dtype='object')"
      ]
     },
     "execution_count": 21,
     "metadata": {},
     "output_type": "execute_result"
    }
   ],
   "source": [
    "cols_maior_01 = df.columns.drop(['pressao','corrente_fuga'])\n",
    "cols_maior_01"
   ]
  },
  {
   "cell_type": "code",
   "execution_count": 22,
   "metadata": {
    "ExecuteTime": {
     "end_time": "2020-05-09T14:11:15.929303Z",
     "start_time": "2020-05-09T14:11:15.880031Z"
    }
   },
   "outputs": [
    {
     "name": "stdout",
     "output_type": "stream",
     "text": [
      "Resultados do erro médio e score (acurácia do modelo) para o dataset de teste:\n",
      "  MSE: 2.429026370772323e-06\n",
      " RMSE: 0.0015585334038038206\n",
      "Score: 57.7164%\n"
     ]
    }
   ],
   "source": [
    "score_cols_maior_01 = calcula_regressao(cols_maior_01)"
   ]
  },
  {
   "cell_type": "markdown",
   "metadata": {},
   "source": [
    "**Comparando os *scores* dos quatro modelos testados.**"
   ]
  },
  {
   "cell_type": "code",
   "execution_count": 23,
   "metadata": {
    "ExecuteTime": {
     "end_time": "2020-05-09T14:11:16.257033Z",
     "start_time": "2020-05-09T14:11:15.938032Z"
    }
   },
   "outputs": [
    {
     "data": {
      "image/png": "[encoded data removed]",
      "text/plain": [
       "<Figure size 864x432 with 1 Axes>"
      ]
     },
     "metadata": {
      "needs_background": "light"
     },
     "output_type": "display_data"
    }
   ],
   "source": [
    "scores = [score_cols, score_cols_maior_01, score_cols_maior_03, score_cols_maior_05]\n",
    "labels = ['Todas', '> 0,10', '> 0,30', '> 0,50']\n",
    "\n",
    "fig, ax = plt.subplots(1, figsize=(12,6))\n",
    "fig.suptitle('Comparação entre os scores')\n",
    "\n",
    "ax.barh(labels, scores)\n",
    "plt.grid(b=True, which='major', color='#666666', linestyle='-')\n",
    "\n",
    "for index, score in enumerate(scores):\n",
    "    plt.text(score, index, str('{:2.2f}'.format(score * 100) + '%'))\n",
    "\n",
    "plt.show()"
   ]
  },
  {
   "cell_type": "markdown",
   "metadata": {},
   "source": [
    "Na **Regressão Linear** tivemos um melhor *score* mantendo todas as colunas.  \n",
    "Iremos manter todas as colunas para os testes com outros *algoritmos*."
   ]
  },
  {
   "cell_type": "markdown",
   "metadata": {},
   "source": [
    "###### 02. Árvore de Decisão"
   ]
  },
  {
   "cell_type": "code",
   "execution_count": 24,
   "metadata": {
    "ExecuteTime": {
     "end_time": "2020-05-09T14:11:16.284027Z",
     "start_time": "2020-05-09T14:11:16.262034Z"
    }
   },
   "outputs": [],
   "source": [
    "X_train, X_test, y_train, y_test = train_test_split(df[colunas], df['corrente_fuga'], test_size=0.20, random_state=42)"
   ]
  },
  {
   "cell_type": "code",
   "execution_count": 25,
   "metadata": {
    "ExecuteTime": {
     "end_time": "2020-05-09T14:11:16.291034Z",
     "start_time": "2020-05-09T14:11:16.287029Z"
    }
   },
   "outputs": [],
   "source": [
    "tree = DecisionTreeRegressor()"
   ]
  },
  {
   "cell_type": "code",
   "execution_count": 26,
   "metadata": {
    "ExecuteTime": {
     "end_time": "2020-05-09T14:11:16.425184Z",
     "start_time": "2020-05-09T14:11:16.295033Z"
    }
   },
   "outputs": [],
   "source": [
    "model_tree = tree.fit(X_train, y_train)\n",
    "result_tree = tree.predict(X_test)"
   ]
  },
  {
   "cell_type": "code",
   "execution_count": 27,
   "metadata": {
    "ExecuteTime": {
     "end_time": "2020-05-09T14:11:16.443318Z",
     "start_time": "2020-05-09T14:11:16.428304Z"
    }
   },
   "outputs": [
    {
     "name": "stdout",
     "output_type": "stream",
     "text": [
      "Resultados do erro médio e score (acurácia do modelo) para o dataset de treino:\n",
      "  MSE: 1.272532777904471e-06\n",
      " RMSE: 0.0011280659457250143\n",
      "Score: 77.848%\n"
     ]
    }
   ],
   "source": [
    "mse_tree = mean_squared_error(y_test, result_tree)\n",
    "rmse_tree = (np.sqrt(mse_tree))\n",
    "score_tree = model_tree.score(X_test, y_test)\n",
    "print('Resultados do erro médio e score (acurácia do modelo) para o dataset de treino:\\n  MSE: {}'.format(mse_tree) \n",
    "      + '\\n RMSE: {}'.format(rmse_tree) \n",
    "      + '\\nScore: {:2.3f}'.format(score_tree * 100) + '%')"
   ]
  },
  {
   "cell_type": "markdown",
   "metadata": {},
   "source": [
    "##### 03. Random Forest"
   ]
  },
  {
   "cell_type": "code",
   "execution_count": 28,
   "metadata": {
    "ExecuteTime": {
     "end_time": "2020-05-09T14:11:16.470441Z",
     "start_time": "2020-05-09T14:11:16.446320Z"
    }
   },
   "outputs": [],
   "source": [
    "X_train, X_test, y_train, y_test = train_test_split(df[colunas], df['corrente_fuga'], test_size=0.20, random_state=42)"
   ]
  },
  {
   "cell_type": "code",
   "execution_count": 29,
   "metadata": {
    "ExecuteTime": {
     "end_time": "2020-05-09T14:11:16.477449Z",
     "start_time": "2020-05-09T14:11:16.472444Z"
    }
   },
   "outputs": [],
   "source": [
    "tree_rf = RandomForestRegressor()"
   ]
  },
  {
   "cell_type": "code",
   "execution_count": 30,
   "metadata": {
    "ExecuteTime": {
     "end_time": "2020-05-09T14:11:17.223691Z",
     "start_time": "2020-05-09T14:11:16.484452Z"
    }
   },
   "outputs": [],
   "source": [
    "model_rf = tree_rf.fit(X_train, y_train)\n",
    "result_rf = model_rf.predict(X_test)"
   ]
  },
  {
   "cell_type": "code",
   "execution_count": 31,
   "metadata": {
    "ExecuteTime": {
     "end_time": "2020-05-09T14:11:17.260305Z",
     "start_time": "2020-05-09T14:11:17.226674Z"
    }
   },
   "outputs": [
    {
     "name": "stdout",
     "output_type": "stream",
     "text": [
      "Resultados do erro médio e score (acurácia do modelo) para o dataset de treino:\n",
      "  MSE: 6.490562940358652e-07\n",
      " RMSE: 0.0008056403006527573\n",
      "Score: 88.701%\n"
     ]
    }
   ],
   "source": [
    "mse_rf = mean_squared_error(y_test, result_rf)\n",
    "rmse_rf = (np.sqrt(mse_rf))\n",
    "score_rf = model_rf.score(X_test, y_test)\n",
    "print('Resultados do erro médio e score (acurácia do modelo) para o dataset de treino:\\n  MSE: {}'.format(mse_rf) \n",
    "      + '\\n RMSE: {}'.format(rmse_rf) \n",
    "      + '\\nScore: {:2.3f}'.format(score_rf * 100) + '%')"
   ]
  },
  {
   "cell_type": "markdown",
   "metadata": {},
   "source": [
    "##### 04. Random Forest com ajustes nos hiperparâmetros"
   ]
  },
  {
   "cell_type": "code",
   "execution_count": 32,
   "metadata": {
    "ExecuteTime": {
     "end_time": "2020-05-09T14:11:17.284304Z",
     "start_time": "2020-05-09T14:11:17.263303Z"
    }
   },
   "outputs": [],
   "source": [
    "X_train, X_test, y_train, y_test = train_test_split(df[colunas], df['corrente_fuga'], test_size=0.20, random_state=42)"
   ]
  },
  {
   "cell_type": "code",
   "execution_count": 33,
   "metadata": {
    "ExecuteTime": {
     "end_time": "2020-05-09T14:11:17.302309Z",
     "start_time": "2020-05-09T14:11:17.288416Z"
    }
   },
   "outputs": [],
   "source": [
    "param = {'min_samples_leaf':[1,3,5],'min_samples_split':[2,3,5],'n_estimators':[50,150,250]}\n",
    "rf = RandomForestRegressor()\n",
    "grid = GridSearchCV(rf, param, n_jobs=4)"
   ]
  },
  {
   "cell_type": "code",
   "execution_count": 34,
   "metadata": {
    "ExecuteTime": {
     "end_time": "2020-05-09T14:15:43.076056Z",
     "start_time": "2020-05-09T14:11:17.308305Z"
    },
    "code_folding": []
   },
   "outputs": [
    {
     "data": {
      "text/plain": [
       "GridSearchCV(cv='warn', error_score='raise-deprecating',\n",
       "       estimator=RandomForestRegressor(bootstrap=True, criterion='mse', max_depth=None,\n",
       "           max_features='auto', max_leaf_nodes=None,\n",
       "           min_impurity_decrease=0.0, min_impurity_split=None,\n",
       "           min_samples_leaf=1, min_samples_split=2,\n",
       "           min_weight_fraction_leaf=0.0, n_estimators='warn', n_jobs=None,\n",
       "           oob_score=False, random_state=None, verbose=0, warm_start=False),\n",
       "       fit_params=None, iid='warn', n_jobs=4,\n",
       "       param_grid={'min_samples_leaf': [1, 3, 5], 'min_samples_split': [2, 3, 5], 'n_estimators': [50, 150, 250]},\n",
       "       pre_dispatch='2*n_jobs', refit=True, return_train_score='warn',\n",
       "       scoring=None, verbose=0)"
      ]
     },
     "execution_count": 34,
     "metadata": {},
     "output_type": "execute_result"
    }
   ],
   "source": [
    "# Executando o grid\n",
    "grid.fit(X_train, y_train)"
   ]
  },
  {
   "cell_type": "code",
   "execution_count": 35,
   "metadata": {
    "ExecuteTime": {
     "end_time": "2020-05-09T14:15:43.088325Z",
     "start_time": "2020-05-09T14:15:43.080156Z"
    }
   },
   "outputs": [
    {
     "data": {
      "text/plain": [
       "{'min_samples_leaf': 3, 'min_samples_split': 5, 'n_estimators': 50}"
      ]
     },
     "execution_count": 35,
     "metadata": {},
     "output_type": "execute_result"
    }
   ],
   "source": [
    "# Verificando os melhores parâmetros\n",
    "grid.best_params_"
   ]
  },
  {
   "cell_type": "code",
   "execution_count": 36,
   "metadata": {
    "ExecuteTime": {
     "end_time": "2020-05-09T14:15:43.102153Z",
     "start_time": "2020-05-09T14:15:43.092152Z"
    }
   },
   "outputs": [
    {
     "name": "stdout",
     "output_type": "stream",
     "text": [
      "RandomForestRegressor(bootstrap=True, criterion='mse', max_depth=None,\n",
      "           max_features='auto', max_leaf_nodes=None,\n",
      "           min_impurity_decrease=0.0, min_impurity_split=None,\n",
      "           min_samples_leaf=3, min_samples_split=5,\n",
      "           min_weight_fraction_leaf=0.0, n_estimators=50, n_jobs=None,\n",
      "           oob_score=False, random_state=None, verbose=0, warm_start=False)\n"
     ]
    }
   ],
   "source": [
    "rf_best = grid.best_estimator_\n",
    "print(rf_best)"
   ]
  },
  {
   "cell_type": "code",
   "execution_count": 37,
   "metadata": {
    "ExecuteTime": {
     "end_time": "2020-05-09T14:15:43.271535Z",
     "start_time": "2020-05-09T14:15:43.118150Z"
    }
   },
   "outputs": [],
   "source": [
    "result_grid = rf_best.predict(X_test)"
   ]
  },
  {
   "cell_type": "code",
   "execution_count": 38,
   "metadata": {
    "ExecuteTime": {
     "end_time": "2020-05-09T14:15:43.418296Z",
     "start_time": "2020-05-09T14:15:43.271535Z"
    }
   },
   "outputs": [
    {
     "name": "stdout",
     "output_type": "stream",
     "text": [
      "Resultados do erro médio e score (acurácia do modelo) para o dataset de treino:\n",
      "  MSE: 5.698269916639289e-07\n",
      " RMSE: 0.0007548688572619279\n",
      "Score: 90.081%\n"
     ]
    }
   ],
   "source": [
    "mse_grid = mean_squared_error(y_test, result_grid)\n",
    "rmse_grid = (np.sqrt(mse_grid))\n",
    "score_grid = rf_best.score(X_test, y_test)\n",
    "print('Resultados do erro médio e score (acurácia do modelo) para o dataset de treino:\\n  MSE: {}'.format(mse_grid) \n",
    "      + '\\n RMSE: {}'.format(rmse_grid) \n",
    "      + '\\nScore: {:2.3f}'.format(score_grid * 100) + '%')"
   ]
  },
  {
   "cell_type": "markdown",
   "metadata": {},
   "source": [
    "##### Comparação dos valores atuais e previstos"
   ]
  },
  {
   "cell_type": "code",
   "execution_count": 39,
   "metadata": {
    "ExecuteTime": {
     "end_time": "2020-05-09T14:15:43.440306Z",
     "start_time": "2020-05-09T14:15:43.424299Z"
    }
   },
   "outputs": [
    {
     "data": {
      "text/html": [
       "<div>\n",
       "<style scoped>\n",
       "    .dataframe tbody tr th:only-of-type {\n",
       "        vertical-align: middle;\n",
       "    }\n",
       "\n",
       "    .dataframe tbody tr th {\n",
       "        vertical-align: top;\n",
       "    }\n",
       "\n",
       "    .dataframe thead th {\n",
       "        text-align: right;\n",
       "    }\n",
       "</style>\n",
       "<table border=\"1\" class=\"dataframe\">\n",
       "  <thead>\n",
       "    <tr style=\"text-align: right;\">\n",
       "      <th></th>\n",
       "      <th>Atual</th>\n",
       "      <th>Previsto</th>\n",
       "    </tr>\n",
       "  </thead>\n",
       "  <tbody>\n",
       "    <tr>\n",
       "      <th>4943</th>\n",
       "      <td>0.037398</td>\n",
       "      <td>0.037002</td>\n",
       "    </tr>\n",
       "    <tr>\n",
       "      <th>30083</th>\n",
       "      <td>0.039160</td>\n",
       "      <td>0.039238</td>\n",
       "    </tr>\n",
       "    <tr>\n",
       "      <th>25353</th>\n",
       "      <td>0.037163</td>\n",
       "      <td>0.037281</td>\n",
       "    </tr>\n",
       "    <tr>\n",
       "      <th>26959</th>\n",
       "      <td>0.037685</td>\n",
       "      <td>0.037796</td>\n",
       "    </tr>\n",
       "    <tr>\n",
       "      <th>18264</th>\n",
       "      <td>0.037531</td>\n",
       "      <td>0.037409</td>\n",
       "    </tr>\n",
       "  </tbody>\n",
       "</table>\n",
       "</div>"
      ],
      "text/plain": [
       "          Atual  Previsto\n",
       "4943   0.037398  0.037002\n",
       "30083  0.039160  0.039238\n",
       "25353  0.037163  0.037281\n",
       "26959  0.037685  0.037796\n",
       "18264  0.037531  0.037409"
      ]
     },
     "execution_count": 39,
     "metadata": {},
     "output_type": "execute_result"
    }
   ],
   "source": [
    "df_comparacao = pd.DataFrame({'Atual': y_test, 'Previsto': result_grid})\n",
    "df_comparacao.head()"
   ]
  },
  {
   "cell_type": "code",
   "execution_count": 40,
   "metadata": {
    "ExecuteTime": {
     "end_time": "2020-05-09T14:15:45.712085Z",
     "start_time": "2020-05-09T14:15:43.451306Z"
    }
   },
   "outputs": [
    {
     "data": {
      "image/png": "[encoded data removed]",
      "text/plain": [
       "<Figure size 1152x720 with 1 Axes>"
      ]
     },
     "metadata": {
      "needs_background": "light"
     },
     "output_type": "display_data"
    }
   ],
   "source": [
    "df1 = df_comparacao.head(100)\n",
    "df1.plot(kind='bar',figsize=(16,10))\n",
    "plt.grid(which='major', linestyle='-', linewidth='0.5', color='green')\n",
    "#plt.grid(which='minor', linestyle=':', linewidth='0.5', color='black')\n",
    "plt.show()"
   ]
  }
 ],
 "metadata": {
  "hide_input": false,
  "kernelspec": {
   "display_name": "Python 3",
   "language": "python",
   "name": "python3"
  },
  "language_info": {
   "codemirror_mode": {
    "name": "ipython",
    "version": 3
   },
   "file_extension": ".py",
   "mimetype": "text/x-python",
   "name": "python",
   "nbconvert_exporter": "python",
   "pygments_lexer": "ipython3",
   "version": "3.6.8"
  }
 },
 "nbformat": 4,
 "nbformat_minor": 2
}
